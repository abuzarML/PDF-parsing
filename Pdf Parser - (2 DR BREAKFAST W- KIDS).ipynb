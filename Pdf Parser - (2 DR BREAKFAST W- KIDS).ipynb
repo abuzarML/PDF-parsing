{
 "cells": [
  {
   "cell_type": "code",
   "execution_count": 1,
   "metadata": {},
   "outputs": [],
   "source": [
    "import re\n",
    "import pdfplumber\n",
    "import json\n",
    "import pandas as pd"
   ]
  },
  {
   "cell_type": "markdown",
   "metadata": {},
   "source": [
    "**Specify The PDF File**"
   ]
  },
  {
   "cell_type": "code",
   "execution_count": 2,
   "metadata": {},
   "outputs": [],
   "source": [
    "PDF_FILE = '2 DR BREAKFAST W- KIDS.pdf'"
   ]
  },
  {
   "cell_type": "markdown",
   "metadata": {},
   "source": [
    "**Create JSON FILE**"
   ]
  },
  {
   "cell_type": "code",
   "execution_count": 3,
   "metadata": {},
   "outputs": [],
   "source": [
    "def create_json_map():\n",
    "    \n",
    "    with pdfplumber.open(PDF_FILE) as pdf:\n",
    "        pages = pdf.pages\n",
    "        shelf_record = []\n",
    "        page_shelf_record_dict = {}\n",
    "        shelf_re = 'Shelf|CC Rack|Deleted Items- Adjust|Deleted Item|Added Item'\n",
    "        for i,page in enumerate(pages):\n",
    "\n",
    "            print(\"[INFO] Processed\",page)    \n",
    "            if i>0:\n",
    "                page_number = \"page_\"+str(i+1)\n",
    "                text = page.extract_text()\n",
    "                shelf_record_dict = {}\n",
    "                for line in text.split('\\n'):\n",
    "                    shelf_number = re.findall(shelf_re, line, flags=re.IGNORECASE)\n",
    "\n",
    "                    if shelf_number:\n",
    "                        shelf_num_index = re.search(shelf_number[0]+'\\s*([a-zA-Z0-9_.-]*)',line).group()\n",
    "                        shelf_num_width =  re.search('Width:'+'\\s*([a-zA-Z0-9_.-.\\']*)',line).group()\n",
    "                        shelf_num_depth = re.search('Depth:'+'\\s*([a-zA-Z0-9_.-.\\']*)\\s*([a-zA-Z0-9_.-.\\']*)',line).group()\n",
    "                        shelf_record_dict[shelf_num_index] = {\"Width:\":shelf_num_width.split()[1], \"Depth\":shelf_num_depth.split(': ')[1]}\n",
    "\n",
    "                        shelf_record.append(shelf_num_index)\n",
    "                page_shelf_record_dict[page_number] = shelf_record_dict \n",
    "#         print(page_shelf_record_dict)\n",
    "        \n",
    "        dict_to_json = json.dumps(page_shelf_record_dict)\n",
    "        print(\"Successfully created JSON File!!\")\n",
    "\n",
    "        json_file = PDF_FILE.split('.')[0] + \".shelves.json\"\n",
    "        with open(json_file, \"w\") as f:\n",
    "            f.write(dict_to_json)\n",
    "        #     print(shelf_record)"
   ]
  },
  {
   "cell_type": "markdown",
   "metadata": {},
   "source": [
    "**Extract Table Information**"
   ]
  },
  {
   "cell_type": "code",
   "execution_count": 4,
   "metadata": {},
   "outputs": [],
   "source": [
    "def get_table_info(index,l):\n",
    "    l= l.rstrip()\n",
    "    l= l.lstrip()\n",
    "\n",
    "    loc_id = l.split()[0]\n",
    "    l = ' '.join(l.split(' ')[1:])\n",
    "    check_int = re.findall('\\d+',loc_id)\n",
    "    if not check_int:\n",
    "        return []\n",
    "\n",
    "    facing = l.split()[-1]\n",
    "    l = ' '.join(l.split(' ')[:-1])\n",
    "\n",
    "    stockcode = l.split()[-1]\n",
    "    l = ' '.join(l.split(' ')[:-1])\n",
    "\n",
    "    bar_code = l.split()[-1]\n",
    "    l = ' '.join(l.split(' ')[:-1])\n",
    "    size_uom = l.split()[-1]  #only split last one and then extract size and uom\n",
    "    l = ' '.join(l.split(size_uom)[:-1])\n",
    "    size =''\n",
    "    uom = ''\n",
    "    \n",
    "    if re.search('\\d+\\.\\d+',size_uom) :\n",
    "        size = re.search('\\d+\\.\\d+',size_uom).group()\n",
    "    else:\n",
    "        return []\n",
    "#         print(\"pattern not matched!!!\")\n",
    "    if size:\n",
    "        uom =size_uom.split(size)[-1]\n",
    "    else:\n",
    "        return []\n",
    "    name = l\n",
    "    line_desc = [index,loc_id, name, size, uom, bar_code, stockcode, facing]\n",
    "    return line_desc\n"
   ]
  },
  {
   "cell_type": "markdown",
   "metadata": {},
   "source": [
    "**Get The JSON List and JSON File**"
   ]
  },
  {
   "cell_type": "code",
   "execution_count": 5,
   "metadata": {
    "scrolled": true
   },
   "outputs": [
    {
     "name": "stdout",
     "output_type": "stream",
     "text": [
      "[INFO] Processed <Page:1>\n",
      "[INFO] Processed <Page:2>\n",
      "[INFO] Processed <Page:3>\n",
      "[INFO] Processed <Page:4>\n",
      "[INFO] Processed <Page:5>\n",
      "Successfully created JSON File!!\n"
     ]
    }
   ],
   "source": [
    "create_json_map()"
   ]
  },
  {
   "cell_type": "markdown",
   "metadata": {},
   "source": [
    "**Collecing Raw Data**"
   ]
  },
  {
   "cell_type": "code",
   "execution_count": 6,
   "metadata": {
    "scrolled": true
   },
   "outputs": [
    {
     "name": "stdout",
     "output_type": "stream",
     "text": [
      "##### Start a new Table#####\n",
      "['Shelf 1', '1', 'ARIZONA ARNOLD PALMER HALF & HALF STRAWB... ', '23.00', 'OZ', 'v(g13008*RNPNKm(W', '7635', '1']\n",
      "['Shelf 1', '2', 'ARIZONA ARNOLD PALMER HALF & HALF TEA/LEM... ', '23.00', 'OZ', 'v(g13008*RLTNKm(W', '7616', '1']\n",
      "['Shelf 1', '3', 'ARIZONA RX ENERGY ', '23.00', 'OZ', 'v(g13008*RLSOPt(y', '7614', '1']\n",
      "['Shelf 1', '4', 'ARIZONA SWEET TEA CAN ', '23.00', 'OZ', 'v(g13008*RLRRLl(V', '7612', '1']\n",
      "['Shelf 1', '5', 'ARIZONA RASPBERRY TEA ', '23.00', 'OZ', 'v(g13008*RNPORk(U', '7611', '1']\n",
      "['Shelf 1', '6', 'ARIZONA GREEN TEA ', '23.00', 'OZ', 'v(g13008*RLPMQr(w', '7610', '1']\n",
      "['Shelf 1', '7', 'ARIZONA MUCHO MANGO TALL BOY 20 OZ ', '20.00', 'OZ', 'v(g13008*RPLNNn(X', '924835', '1']\n",
      "['Shelf 1', '8', 'LIPTON GREEN TEA W/CITRUS ', '20.00', 'OZ', 'U(a12000*KLMRPo(Y', 'PEPSI', '1']\n",
      "['Shelf 1', '9', 'LIPTON PURE LEAF RASPBERRY TEA ', '18.50', 'OZ', 'U(a12000*MSQMMn(X', 'PEPSI', '1']\n",
      "##### Start a new Table#####\n",
      "['Shelf 2', '10', 'KWIKADE ARCTIC FREEZE ', '12.00', 'OZ', 'U(a39779*LLLSRr(w', '111021', '1']\n",
      "['Shelf 2', '11', 'KWIKADE FRT PNCH ', '12.00', 'OZ', 'U(a39779*LLLPOt(y', '111012', '1']\n",
      "['Shelf 2', '12', 'KWIKADE GRAPE ', '12.00', 'OZ', 'U(a39779*LLLPNm(W', '111011', '1']\n",
      "['Shelf 2', '13', 'CLUB HOUSE FRUIT PUNCH 10 OZ ', '24.00', 'CT', 'x(i54340*KKOMNl(V', '925648', '1']\n",
      "['Shelf 2', '14', 'CLUB HOUSE BLUE RASPBERRY 10 OZ ', '24.00', 'CT', 'x(i54340*KKOMPp(u', '925651', '1']\n",
      "['Shelf 2', '15', 'GOOD 2 GROW FRUIT PUNCH ', '6.00', 'OZ', 'x(i83990*QPLMKp(u', '921703', '1']\n",
      "['Shelf 2', '16', 'GOOD 2 GROW APPLE JUICE ', '6.00', 'OZ', 'x(i83990*QQLKKq(v', '921727', '1']\n",
      "['Shelf 2', '17', 'LIPTON PURE LEAF TEA SWEETENED/NO LEMON ', '18.50', 'OZ', 'U(a12000*MSQLTn(X', 'PEPSI', '2']\n",
      "['Shelf 2', '18', 'LIPTON PURE LEAF TEA W/LEMON ', '18.50', 'OZ', 'U(a12000*MSQLSq(v', 'PEPSI', '1']\n",
      "##### Start a new Table#####\n",
      "['Shelf 3', '19', \"NATURE'S TOUCH 50/50 LEMONADE TEA \", '20.00', 'OZ', 'U(a39779*LLMMNm(W', '111133', '1']\n",
      "['Shelf 3', '20', \"NATURE'S TOUCH PEACH TEA LEMONADE \", '20.00', 'OZ', 'U(a39779*LLMRRp(u', '111139', '1']\n",
      "['Shelf 3', '21', \"NATURE'S TOUCH PEACH TEA \", '20.00', 'OZ', 'U(a39779*LLMRNr(w', '111138', '1']\n",
      "['Shelf 3', '22', \"NATURE'S TOUCH RASPBERRY TEA \", '20.00', 'OZ', 'U(a39779*LLMQSn(X', '111135', '1']\n",
      "['Shelf 3', '23', \"NATURE'S TOUCH POMEGRANATE ACAI TEA \", '20.00', 'OZ', 'U(a39779*LLMMLs(x', '111131', '1']\n",
      "['Shelf 3', '24', 'NT SWEET TEA ', '20.00', 'OZ', 'U(a39779*LLMSLm(W', '921127', '1']\n",
      "['Shelf 3', '25', \"NATURE'S TOUCH LEMONADE \", '20.00', 'OZ', 'U(a39779*LLMLQo(Y', '111128', '1']\n",
      "['Shelf 3', '26', \"NATURE'S TOUCH RASPBERRY LEMONADE \", '20.00', 'OZ', 'U(a39779*LLMRLn(X', '111137', '1']\n",
      "['Shelf 3', '27', 'PURE LEAF HERBAL TEA PEACH HIBISCUS 18.5 OZ ', '18.50', 'OZ', 'U(a12000*LSLKPo(Y', 'PEPSI', '1']\n",
      "['Shelf 3', '28', 'PURE LEAF HERBAL TEA CHERRY HIBISCUS 18.5 OZ ', '18.50', 'OZ', 'U(a12000*LSKTOl(V', 'PEPSI', '1']\n",
      "##### Start a new Table#####\n",
      "['Shelf 4', '29', 'SNAPPLE KIWI STRAWBERRY ', '16.00', 'OZ', 'U(a76183*KKNLKr(w', 'KDB', '1']\n",
      "['Shelf 4', '30', 'SNAPPLE ALL NATURAL APPLE ', '16.00', 'OZ', 'U(a76183*KKNMSm(W', 'KDP', '1']\n",
      "['Shelf 4', '31', 'EVERFRESH ORANGE JUICE ', '16.00', 'OZ', 'U(a76737*LMMNKs(x', '20893', '1']\n",
      "['Shelf 4', '32', 'EVERFRESH APPLE JUICE ', '16.00', 'OZ', 'U(a76737*LMMNMm(W', '20892', '1']\n",
      "['Shelf 4', '33', 'STARBUCKS NITRO BLACK ', '9.60', 'OZ', 'U(a12000*LTMSQt(y', 'PEPSI', '1']\n",
      "['Shelf 4', '34', 'STARBUCKS NITRO SWEET CREAM ', '9.60', 'OZ', 'U(a12000*LTMTKq(v', 'PEPSI', '1']\n",
      "['Shelf 4', '35', 'KEVITA MASTER BREW KOMBUCHA PINEAPPLE PE... ', '15.20', 'OZ', 'x(i53311*KKNQKk(U', '924164', '1']\n",
      "[]\n",
      "[]\n",
      "['Shelf 4', '36', 'KEVITA MBK TART CHERRY 15.2 OZ ', '15.20', 'OZ', 'x(i53311*KKNQLr(w', '925175', '1']\n",
      "['Shelf 4', '37', 'LIPTON PURE LEAF UNSWEETENED ', '18.50', 'OZ', 'U(a12000*MSQMKt(y', 'PEPSI', '1']\n",
      "##### Start a new Table#####\n",
      "['Shelf 5', '38', 'SIMPLY CRANBERRY JUICE ', '11.50', 'OZ', 'U(a25000*KKKNKk(U', '4026', '1']\n",
      "['Shelf 5', '39', 'SIMPLY RASPBERRY LEMONADE JUICE ', '11.50', 'OZ', 'U(a25000*KKKLSs(x', '4024', '1']\n",
      "['Shelf 5', '40', 'SIMPLY LEMONADE JUICE ', '11.50', 'OZ', 'U(a25000*KKKMLs(x', '4023', '1']\n",
      "['Shelf 5', '41', 'SIMPLY ORANGE JUICE - PULP FREE ', '11.50', 'OZ', 'U(a25000*KKKMOt(y', '4022', '1']\n",
      "['Shelf 5', '42', 'NAKED GREEN MACHINE ', '15.20', 'OZ', 'U(a82592*RMKLPn(X', '4016', '1']\n",
      "['Shelf 5', '43', 'NAKED JUICE STRAWBRY BANA ', '15.20', 'OZ', 'U(a82592*LTOLPm(W', '4014', '1']\n",
      "['Shelf 5', '44', 'NAKED JUICE BLUE MACHINE ', '15.20', 'OZ', 'U(a82592*RMRLPm(W', '4012', '1']\n",
      "['Shelf 5', '45', 'V8 VEGTABLE JUICE ', '12.00', 'OZ', 'U(a51000*LNSKNn(X', '3655', '1']\n",
      "['Shelf 5', '46', 'MONSTER JAVA MEAN BEAN ', '15.00', 'OZ', 'U(a70847*SLMQKt(y', 'COKE', '1']\n",
      "['Shelf 5', '47', 'MONSTER JAVA LOCA MOCHA ', '15.00', 'OZ', 'U(a70847*SLMRLp(u', 'COKE', '1']\n",
      "##### Start a new Table#####\n",
      "['Shelf 6', '48', 'STARBUCKS ESPRESSO & CREAM DOUBLE SHOP ... ', '6.50', 'OZ', 'U(a12000*KKLRRm(W', 'PEPSI', '1']\n",
      "['Shelf 6', '49', 'STARBUCKS DBLSHT MOCHA ', '15.00', 'OZ', 'U(a12000*KMSOPs(x', 'PEPSI', '1']\n",
      "['Shelf 6', '50', 'STARBUCKS DBLSHT VANILLA ', '15.00', 'OZ', 'U(a12000*KMSOTq(v', 'PEPSI', '1']\n",
      "['Shelf 6', '51', 'FRAPPUCCINO MOCHA ', '13.70', 'OZ', 'U(a12000*KKOPMk(U', 'PEPSI', '1']\n",
      "['Shelf 6', '52', 'FRAPPUCCINO VANILLA ', '13.70', 'OZ', 'U(a12000*SLNNLn(X', 'PEPSI', '1']\n",
      "['Shelf 6', '53', 'STARBUCKS FRAPPUCCINO CARAMEL ', '13.70', 'OZ', 'U(a12000*KLQRMl(V', 'PEPSI', '1']\n",
      "['Shelf 6', '54', 'NT KG CAPP DOUBLE SHOT FR VANILLA PINT ', '16.00', 'OZ', 'U(a39779*LKTTTr(w', '921655', '1']\n",
      "['Shelf 6', '55', 'KARUBA GOLD CAPPUCCINO WHITE CHOCOLATE ... ', '16.00', 'OZ', 'U(a39779*KKKSOn(X', '921034', '1']\n",
      "['Shelf 6', '56', 'KARUBA GOLD MOCHA CAPPUCCINO ', '16.00', 'OZ', 'U(a39779*LLMRQs(x', '111216', '1']\n",
      "['Shelf 6', '57', 'CHINO ICED CAPP FVAN ', '16.00', 'OZ', 'U(a39779*LLLKKq(v', '111005', '1']\n",
      "##### Start a new Table#####\n",
      "['Shelf 7', '58', 'MUSCLE MILK PRO 40 KNOCKOUT CHOCOLATE ', '14.00', 'OZ', 'x(i76063*KKMSKq(v', 'PEPSI', '1']\n",
      "['Shelf 7', '59', 'MUSCLE MILK PRO SERIES INTENSE VANILLA ', '14.00', 'OZ', 'x(i76063*KKMSLn(X', 'PEPSI', '1']\n",
      "['Shelf 7', '60', 'MUSCLE MILK CHOCOLATE ', '14.00', 'OZ', 'x(i76063*KKMKLl(V', 'PEPSI', '1']\n",
      "['Shelf 7', '61', 'MUSCLE MILK VANILLA CRÈME ', '14.00', 'OZ', 'x(i76063*KKMKMs(x', 'PEPSI', '1']\n",
      "['Shelf 7', '62', 'STARBUCKS TRIPLE SHOT ENERGY EXT ST CAFFE ... ', '15.00', 'OZ', 'U(a12000*LSLMTk(U', 'PEPSI', '1']\n",
      "['Shelf 7', '63', 'STARBUCKS TRIPLE SHOT ENERGY EXT ST FR VA... ', '15.00', 'OZ', 'U(a12000*LSLNLn(X', 'PEPSI', '1']\n",
      "['Shelf 7', '64', 'BLACK STAG ICED LATTE CARAMEL 13.7 OZ ', '13.70', 'OZ', 'x(i11130*KNKLSo(Y', '926058', '1']\n",
      "['Shelf 7', '65', 'BLACK STAG ESPRESSO WITH CREAM 6.5 OZ ', '6.50', 'OZ', 'x(i11130*KNKSNm(W', '926056', '1']\n",
      "['Shelf 7', '66', 'BLACK STAG ICED LATTE MOCHA ENERGY 15 OZ ', '15.00', 'OZ', 'x(i11130*KNKQSt(y', '926057', '1']\n",
      "['Shelf 7', '67', 'BLACK STAG ICED LATTE VANILLA ENERGY 15 OZ ', '15.00', 'OZ', 'x(i11130*KNKQRm(W', '926055', '1']\n",
      "##### Start a new Table#####\n",
      "['Shelf 8', '68', 'EGGS LARGE DOZEN ', '1.00', 'DZ', 'U(a39779*KMKKOt(y', '20040', '7']\n",
      "##### Start a new Table#####\n",
      "['Shelf 9', '69', 'PATRICK CUDAHY THICK SLICED BACON ', '16.00', 'OZ', 'U(a43200*QLOKMs(x', '499509', '1']\n",
      "[]\n",
      "[]\n",
      "['Shelf 9', '70', 'NATURES TOUCH ORGANIC LARGE EGGS ', '12.00', 'CT', 'U(a39779*KKKMTo(Y', '920641', '1']\n",
      "['Shelf 9', '70', 'NATURES TOUCH ORGANIC LARGE EGGS ', '12.00', 'CT', 'U(a39779*KKKMTo(Y', '920641', '1']\n",
      "##### Start a new Table#####\n",
      "['Shelf 10', '71', 'KITCHEN CRAVINGS SLICED BACON ', '12.00', 'OZ', 'U(a39779*OTTPSq(v', '499482', '1']\n",
      "['Shelf 10', '72', 'FARMLAND DICED HAM 16 OZ ', '1.00', 'CT', 'U(a70247*SLSTMs(x', '928647', '1']\n",
      "['Shelf 10', '73', \"RESER'S HASH BROWNS \", '20.00', 'OZ', 'U(a71117*LOOMNt(y', '180428', '1']\n",
      "##### Start a new Table#####\n",
      "['Shelf 11', '74', 'BLUE BONNET MARGARINE QTR ', '16.00', 'OZ', 'U(a29000*KKSMMt(y', '20150', '1']\n",
      "['Shelf 11', '75', 'FORMOST UNSALTED BUTTER QUARTERS ', '4.00', 'CT', 'x(i07713*NKKRQs(x', '922287', '1']\n",
      "['Shelf 11', '76', 'NT BUTTER QUARTERS ', '1.00', 'LB', 'U(a39779*KMKKQn(X', '20066', '7']\n",
      "##### Start a new Table#####\n",
      "['Shelf 12', '77', 'FRENCH ONION DIP ', '8.00', 'OZ', 'w(h50388*LKMKPp(u', '111401', '1']\n",
      "['Shelf 12', '78', 'DEANS FRENCH ONION DIP ', '16.00', 'OZ', 'U(a26700*LMTLPp(u', '20205', '1']\n",
      "['Shelf 12', '79', 'SOUR CREAM ', '8.00', 'OZ', 'w(h50388*LKLKPs(x', '925194', '2']\n",
      "['Shelf 12', '80', 'TOP THE TATER ', '12.00', 'OZ', 'U(a70801*QOSKKs(x', '20208', '1']\n",
      "['Shelf 12', '81', 'SABRA ROASTED RED PEPPER HUMMUS 10 OZ ', '10.00', 'OZ', 'U(a40822*KLLPOt(y', '922130', '1']\n",
      "##### Start a new Table#####\n",
      "['Shelf 13', '82', 'DEANS CREAMY DILL DIP ', '8.00', 'OZ', 'U(a26700*LMTKQn(X', '20203', '1']\n",
      "['Shelf 13', '83', 'PHILLY CREAM CHEESE BAR ', '8.00', 'OZ', 'U(a21000*QLMMNt(y', '20344', '1']\n",
      "['Shelf 13', '84', 'PHILLY ONION & CHIVE CREAM CHEESE TUB ', '8.00', 'OZ', 'U(a21000*KKRMSs(x', '20343', '1']\n",
      "['Shelf 13', '85', 'KEMPS 2% LOWFAT COTTAGE CHEESE 16 OZ ', '16.00', 'OZ', 'U(a41483*KNQLKk(U', '923657', '1']\n",
      "['Shelf 13', '86', 'FIESTA FRESH SALSA ', '16.00', 'OZ', 'x(i29595*KKKKLr(w', '30565', '1']\n",
      "['Shelf 13', '87', 'WHOLLY GUACAMOLE BOWL CLASSIC ', '7.50', 'OZ', 'v(g16112*SQQRKm(W', '928425', '1']\n",
      "##### Start a new Table#####\n",
      "['Shelf 14', '92', 'CRYSTAL FARMS AMERICAN CHEESE SLICES ', '12.00', 'OZ', 'U(a75925*NKKLRr(w', '920929', '1']\n",
      "['Shelf 14', '93', 'CRYSTAL FARMS WISCONSIN SHARP CHEDDAR C... ', '8.00', 'OZ', 'U(a75925*NKLKPl(V', '920928', '1']\n",
      "['Shelf 14', '94', 'CRYSTAL FARMS PEPPER JACK CHEESE ', '8.00', 'OZ', 'U(a75925*NKKSTo(Y', '920927', '1']\n",
      "##### Start a new Table#####\n",
      "['CC Rack-1', '88', 'PHILLY CREAM CHEESE ONION CHIVE ', '1.00', 'OZ', 'U(a21000*RMQSPl(V', '20738', '1']\n",
      "['CC Rack-1', '89', 'PHILLY CREAM CHEESE STRAWBERRY ', '1.00', 'OZ', 'U(a21000*RMQSNr(w', '20737', '1']\n",
      "['CC Rack-1', '95', 'BUTTER SINGLE SERVE ', '1.00', 'CT', 'U(a99999*PMKLQn(X', '520163', '1']\n",
      "##### Start a new Table#####\n",
      "['Shelf 15', '96', 'CRYSTAL FARMS MOZZARELLA FINE SHREDDED C... ', '8.00', 'OZ', 'U(a75925*NKQNLp(u', '920926', '1']\n",
      "['Shelf 15', '97', 'CRYSTAL FARMS MILD CHEDDAR FINE SHREDDED... ', '8.00', 'OZ', 'U(a75925*NKQMTm(W', '920925', '1']\n",
      "['Shelf 15', '98', 'KC MEDIUM CHEDDAR CHEESE SLICES 8 OZ ', '8.00', 'OZ', 'U(a39779*KKKQMl(V', '920887', '1']\n",
      "[]\n"
     ]
    },
    {
     "name": "stdout",
     "output_type": "stream",
     "text": [
      "[]\n",
      "['Shelf 15', '99', 'KC COLBY JACK CHEESE SLICES 8 OZ ', '8.00', 'OZ', 'U(a39779*KKKQNs(x', '920888', '1']\n",
      "['Shelf 15', '100', 'KC STRING CHEESE REGULAR 12 OZ BAG ', '12.00', 'OZ', 'U(a39779*KMKQRo(Y', '20672', '1']\n",
      "##### Start a new Table#####\n",
      "['Shelf 16', '101', 'KEMPS SELECT HEAVY WHIPPED CREAM 13 OZ ', '12.00', 'CT', 'U(a41483*KOMQKq(v', '925331', '1']\n",
      "['Shelf 16', '102', 'KEMPS HEAVY WHIPPING CREAM ', '8.00', 'OZ', 'U(a41483*KKQOQm(W', '111303', '1']\n",
      "['Shelf 16', '103', 'INT DELIGHT FR VAN ', '16.000', 'Z', 'U(a41271*KMPQMk(U', '20636', '1']\n",
      "['Shelf 16', '104', 'NT CINN HAZELNUT CREAMER ', '16.00', 'OZ', 'U(a39779*LLLMNp(u', '111206', '1']\n",
      "['Shelf 16', '105', 'NT IRISH CREAM CREAMER ', '16.00', 'OZ', 'U(a39779*LLLNMr(w', '111207', '1']\n",
      "['Shelf 16', '106', 'NT FRENCH VANILLA CREAMER ', '16.00', 'OZ', 'U(a39779*LLLMMs(x', '111205', '1']\n",
      "['Shelf 16', '107', 'NT 1/2 & 1/2 PINT ', '16.00', 'OZ', 'U(a39779*LLLMLl(V', '111204', '1']\n",
      "['Shelf 16', '108', \"NATURE'S TOUCH FRENCH VANILLA CREAMER \", '1.00', 'QT', 'U(a39779*LLMRKq(v', '111215', '1']\n",
      "['Shelf 16', '109', 'NT 1/2 & 1/2 QUART ', '1.00', 'QT', 'U(a39779*LLLNNo(Y', '111208', '1']\n",
      "##### Start a new Table#####\n",
      "['CC Rack -2', '90', 'PHILLY CREAM CHEESE REDUC FAT ', '1.00', 'OZ', 'U(a21000*QLKTPm(W', '20740', '1']\n",
      "['CC Rack -2', '91', 'PHILLY CREAM CHEESE ORIG ', '1.00', 'OZ', 'U(a21000*QLLLTp(u', '20739', '1']\n",
      "##### Start a new Table#####\n",
      "['Deleted Items- Adjust...', '110', 'NAKED BERRY BLAST ', '15.20', 'OZ', 'U(a82592*TSSLPr(w', '4013', '1']\n",
      "['Deleted Items- Adjust...', '111', 'NAKED MIGHTY MANGO ', '15.20', 'OZ', 'U(a82592*QQKLPm(W', '4011', '1']\n",
      "##### Start a new Table#####\n",
      "['Deleted Items', '112', 'STARBUCKS COLD BREW COFFEE COCOA & HONE... ', '11.00', 'OZ', 'U(a12000*LQMPOl(V', 'PEPSI', '1']\n",
      "['Deleted Items', '113', 'STARBUCKS COLD BREW COFFEE BLACK UNSWEE... ', '11.00', 'OZ', 'U(a12000*LQMPMr(w', 'PEPSI', '1']\n",
      "##### Start a new Table#####\n",
      "['Added Items', '34', 'STARBUCKS NITRO SWEET CREAM ', '9.60', 'OZ', 'U(a12000*LTMTKq(v', 'PEPSI', '1']\n",
      "['Added Items', '46', 'MONSTER JAVA MEAN BEAN ', '15.00', 'OZ', 'U(a70847*SLMQKt(y', 'COKE', '1']\n",
      "['Added Items', '47', 'MONSTER JAVA LOCA MOCHA ', '15.00', 'OZ', 'U(a70847*SLMRLp(u', 'COKE', '1']\n",
      "['Added Items', '63', 'STARBUCKS TRIPLE SHOT ENERGY EXT ST FR VA... ', '15.00', 'OZ', 'U(a12000*LSLNLn(X', 'PEPSI', '1']\n",
      "[]\n",
      "[['Shelf 1', '1', 'ARIZONA ARNOLD PALMER HALF & HALF STRAWB... ', '23.00', 'OZ', 'v(g13008*RNPNKm(W', '7635', '1'], ['Shelf 1', '2', 'ARIZONA ARNOLD PALMER HALF & HALF TEA/LEM... ', '23.00', 'OZ', 'v(g13008*RLTNKm(W', '7616', '1'], ['Shelf 1', '3', 'ARIZONA RX ENERGY ', '23.00', 'OZ', 'v(g13008*RLSOPt(y', '7614', '1'], ['Shelf 1', '4', 'ARIZONA SWEET TEA CAN ', '23.00', 'OZ', 'v(g13008*RLRRLl(V', '7612', '1'], ['Shelf 1', '5', 'ARIZONA RASPBERRY TEA ', '23.00', 'OZ', 'v(g13008*RNPORk(U', '7611', '1'], ['Shelf 1', '6', 'ARIZONA GREEN TEA ', '23.00', 'OZ', 'v(g13008*RLPMQr(w', '7610', '1'], ['Shelf 1', '7', 'ARIZONA MUCHO MANGO TALL BOY 20 OZ ', '20.00', 'OZ', 'v(g13008*RPLNNn(X', '924835', '1'], ['Shelf 1', '8', 'LIPTON GREEN TEA W/CITRUS ', '20.00', 'OZ', 'U(a12000*KLMRPo(Y', 'PEPSI', '1'], ['Shelf 1', '9', 'LIPTON PURE LEAF RASPBERRY TEA ', '18.50', 'OZ', 'U(a12000*MSQMMn(X', 'PEPSI', '1'], ['Shelf 2', '10', 'KWIKADE ARCTIC FREEZE ', '12.00', 'OZ', 'U(a39779*LLLSRr(w', '111021', '1'], ['Shelf 2', '11', 'KWIKADE FRT PNCH ', '12.00', 'OZ', 'U(a39779*LLLPOt(y', '111012', '1'], ['Shelf 2', '12', 'KWIKADE GRAPE ', '12.00', 'OZ', 'U(a39779*LLLPNm(W', '111011', '1'], ['Shelf 2', '13', 'CLUB HOUSE FRUIT PUNCH 10 OZ ', '24.00', 'CT', 'x(i54340*KKOMNl(V', '925648', '1'], ['Shelf 2', '14', 'CLUB HOUSE BLUE RASPBERRY 10 OZ ', '24.00', 'CT', 'x(i54340*KKOMPp(u', '925651', '1'], ['Shelf 2', '15', 'GOOD 2 GROW FRUIT PUNCH ', '6.00', 'OZ', 'x(i83990*QPLMKp(u', '921703', '1'], ['Shelf 2', '16', 'GOOD 2 GROW APPLE JUICE ', '6.00', 'OZ', 'x(i83990*QQLKKq(v', '921727', '1'], ['Shelf 2', '17', 'LIPTON PURE LEAF TEA SWEETENED/NO LEMON ', '18.50', 'OZ', 'U(a12000*MSQLTn(X', 'PEPSI', '2'], ['Shelf 2', '18', 'LIPTON PURE LEAF TEA W/LEMON ', '18.50', 'OZ', 'U(a12000*MSQLSq(v', 'PEPSI', '1'], ['Shelf 3', '19', \"NATURE'S TOUCH 50/50 LEMONADE TEA \", '20.00', 'OZ', 'U(a39779*LLMMNm(W', '111133', '1'], ['Shelf 3', '20', \"NATURE'S TOUCH PEACH TEA LEMONADE \", '20.00', 'OZ', 'U(a39779*LLMRRp(u', '111139', '1'], ['Shelf 3', '21', \"NATURE'S TOUCH PEACH TEA \", '20.00', 'OZ', 'U(a39779*LLMRNr(w', '111138', '1'], ['Shelf 3', '22', \"NATURE'S TOUCH RASPBERRY TEA \", '20.00', 'OZ', 'U(a39779*LLMQSn(X', '111135', '1'], ['Shelf 3', '23', \"NATURE'S TOUCH POMEGRANATE ACAI TEA \", '20.00', 'OZ', 'U(a39779*LLMMLs(x', '111131', '1'], ['Shelf 3', '24', 'NT SWEET TEA ', '20.00', 'OZ', 'U(a39779*LLMSLm(W', '921127', '1'], ['Shelf 3', '25', \"NATURE'S TOUCH LEMONADE \", '20.00', 'OZ', 'U(a39779*LLMLQo(Y', '111128', '1'], ['Shelf 3', '26', \"NATURE'S TOUCH RASPBERRY LEMONADE \", '20.00', 'OZ', 'U(a39779*LLMRLn(X', '111137', '1'], ['Shelf 3', '27', 'PURE LEAF HERBAL TEA PEACH HIBISCUS 18.5 OZ ', '18.50', 'OZ', 'U(a12000*LSLKPo(Y', 'PEPSI', '1'], ['Shelf 3', '28', 'PURE LEAF HERBAL TEA CHERRY HIBISCUS 18.5 OZ ', '18.50', 'OZ', 'U(a12000*LSKTOl(V', 'PEPSI', '1'], ['Shelf 4', '29', 'SNAPPLE KIWI STRAWBERRY ', '16.00', 'OZ', 'U(a76183*KKNLKr(w', 'KDB', '1'], ['Shelf 4', '30', 'SNAPPLE ALL NATURAL APPLE ', '16.00', 'OZ', 'U(a76183*KKNMSm(W', 'KDP', '1'], ['Shelf 4', '31', 'EVERFRESH ORANGE JUICE ', '16.00', 'OZ', 'U(a76737*LMMNKs(x', '20893', '1'], ['Shelf 4', '32', 'EVERFRESH APPLE JUICE ', '16.00', 'OZ', 'U(a76737*LMMNMm(W', '20892', '1'], ['Shelf 4', '33', 'STARBUCKS NITRO BLACK ', '9.60', 'OZ', 'U(a12000*LTMSQt(y', 'PEPSI', '1'], ['Shelf 4', '34', 'STARBUCKS NITRO SWEET CREAM ', '9.60', 'OZ', 'U(a12000*LTMTKq(v', 'PEPSI', '1'], ['Shelf 4', '35', 'KEVITA MASTER BREW KOMBUCHA PINEAPPLE PE... ', '15.20', 'OZ', 'x(i53311*KKNQKk(U', '924164', '1'], ['Shelf 4', '36', 'KEVITA MBK TART CHERRY 15.2 OZ ', '15.20', 'OZ', 'x(i53311*KKNQLr(w', '925175', '1'], ['Shelf 4', '37', 'LIPTON PURE LEAF UNSWEETENED ', '18.50', 'OZ', 'U(a12000*MSQMKt(y', 'PEPSI', '1'], ['Shelf 5', '38', 'SIMPLY CRANBERRY JUICE ', '11.50', 'OZ', 'U(a25000*KKKNKk(U', '4026', '1'], ['Shelf 5', '39', 'SIMPLY RASPBERRY LEMONADE JUICE ', '11.50', 'OZ', 'U(a25000*KKKLSs(x', '4024', '1'], ['Shelf 5', '40', 'SIMPLY LEMONADE JUICE ', '11.50', 'OZ', 'U(a25000*KKKMLs(x', '4023', '1'], ['Shelf 5', '41', 'SIMPLY ORANGE JUICE - PULP FREE ', '11.50', 'OZ', 'U(a25000*KKKMOt(y', '4022', '1'], ['Shelf 5', '42', 'NAKED GREEN MACHINE ', '15.20', 'OZ', 'U(a82592*RMKLPn(X', '4016', '1'], ['Shelf 5', '43', 'NAKED JUICE STRAWBRY BANA ', '15.20', 'OZ', 'U(a82592*LTOLPm(W', '4014', '1'], ['Shelf 5', '44', 'NAKED JUICE BLUE MACHINE ', '15.20', 'OZ', 'U(a82592*RMRLPm(W', '4012', '1'], ['Shelf 5', '45', 'V8 VEGTABLE JUICE ', '12.00', 'OZ', 'U(a51000*LNSKNn(X', '3655', '1'], ['Shelf 5', '46', 'MONSTER JAVA MEAN BEAN ', '15.00', 'OZ', 'U(a70847*SLMQKt(y', 'COKE', '1'], ['Shelf 5', '47', 'MONSTER JAVA LOCA MOCHA ', '15.00', 'OZ', 'U(a70847*SLMRLp(u', 'COKE', '1'], ['Shelf 6', '48', 'STARBUCKS ESPRESSO & CREAM DOUBLE SHOP ... ', '6.50', 'OZ', 'U(a12000*KKLRRm(W', 'PEPSI', '1'], ['Shelf 6', '49', 'STARBUCKS DBLSHT MOCHA ', '15.00', 'OZ', 'U(a12000*KMSOPs(x', 'PEPSI', '1'], ['Shelf 6', '50', 'STARBUCKS DBLSHT VANILLA ', '15.00', 'OZ', 'U(a12000*KMSOTq(v', 'PEPSI', '1'], ['Shelf 6', '51', 'FRAPPUCCINO MOCHA ', '13.70', 'OZ', 'U(a12000*KKOPMk(U', 'PEPSI', '1'], ['Shelf 6', '52', 'FRAPPUCCINO VANILLA ', '13.70', 'OZ', 'U(a12000*SLNNLn(X', 'PEPSI', '1'], ['Shelf 6', '53', 'STARBUCKS FRAPPUCCINO CARAMEL ', '13.70', 'OZ', 'U(a12000*KLQRMl(V', 'PEPSI', '1'], ['Shelf 6', '54', 'NT KG CAPP DOUBLE SHOT FR VANILLA PINT ', '16.00', 'OZ', 'U(a39779*LKTTTr(w', '921655', '1'], ['Shelf 6', '55', 'KARUBA GOLD CAPPUCCINO WHITE CHOCOLATE ... ', '16.00', 'OZ', 'U(a39779*KKKSOn(X', '921034', '1'], ['Shelf 6', '56', 'KARUBA GOLD MOCHA CAPPUCCINO ', '16.00', 'OZ', 'U(a39779*LLMRQs(x', '111216', '1'], ['Shelf 6', '57', 'CHINO ICED CAPP FVAN ', '16.00', 'OZ', 'U(a39779*LLLKKq(v', '111005', '1'], ['Shelf 7', '58', 'MUSCLE MILK PRO 40 KNOCKOUT CHOCOLATE ', '14.00', 'OZ', 'x(i76063*KKMSKq(v', 'PEPSI', '1'], ['Shelf 7', '59', 'MUSCLE MILK PRO SERIES INTENSE VANILLA ', '14.00', 'OZ', 'x(i76063*KKMSLn(X', 'PEPSI', '1'], ['Shelf 7', '60', 'MUSCLE MILK CHOCOLATE ', '14.00', 'OZ', 'x(i76063*KKMKLl(V', 'PEPSI', '1'], ['Shelf 7', '61', 'MUSCLE MILK VANILLA CRÈME ', '14.00', 'OZ', 'x(i76063*KKMKMs(x', 'PEPSI', '1'], ['Shelf 7', '62', 'STARBUCKS TRIPLE SHOT ENERGY EXT ST CAFFE ... ', '15.00', 'OZ', 'U(a12000*LSLMTk(U', 'PEPSI', '1'], ['Shelf 7', '63', 'STARBUCKS TRIPLE SHOT ENERGY EXT ST FR VA... ', '15.00', 'OZ', 'U(a12000*LSLNLn(X', 'PEPSI', '1'], ['Shelf 7', '64', 'BLACK STAG ICED LATTE CARAMEL 13.7 OZ ', '13.70', 'OZ', 'x(i11130*KNKLSo(Y', '926058', '1'], ['Shelf 7', '65', 'BLACK STAG ESPRESSO WITH CREAM 6.5 OZ ', '6.50', 'OZ', 'x(i11130*KNKSNm(W', '926056', '1'], ['Shelf 7', '66', 'BLACK STAG ICED LATTE MOCHA ENERGY 15 OZ ', '15.00', 'OZ', 'x(i11130*KNKQSt(y', '926057', '1'], ['Shelf 7', '67', 'BLACK STAG ICED LATTE VANILLA ENERGY 15 OZ ', '15.00', 'OZ', 'x(i11130*KNKQRm(W', '926055', '1'], ['Shelf 8', '68', 'EGGS LARGE DOZEN ', '1.00', 'DZ', 'U(a39779*KMKKOt(y', '20040', '7'], ['Shelf 9', '69', 'PATRICK CUDAHY THICK SLICED BACON ', '16.00', 'OZ', 'U(a43200*QLOKMs(x', '499509', '1'], ['Shelf 9', '70', 'NATURES TOUCH ORGANIC LARGE EGGS ', '12.00', 'CT', 'U(a39779*KKKMTo(Y', '920641', '1'], ['Shelf 9', '70', 'NATURES TOUCH ORGANIC LARGE EGGS ', '12.00', 'CT', 'U(a39779*KKKMTo(Y', '920641', '1'], ['Shelf 10', '71', 'KITCHEN CRAVINGS SLICED BACON ', '12.00', 'OZ', 'U(a39779*OTTPSq(v', '499482', '1'], ['Shelf 10', '72', 'FARMLAND DICED HAM 16 OZ ', '1.00', 'CT', 'U(a70247*SLSTMs(x', '928647', '1'], ['Shelf 10', '73', \"RESER'S HASH BROWNS \", '20.00', 'OZ', 'U(a71117*LOOMNt(y', '180428', '1'], ['Shelf 11', '74', 'BLUE BONNET MARGARINE QTR ', '16.00', 'OZ', 'U(a29000*KKSMMt(y', '20150', '1'], ['Shelf 11', '75', 'FORMOST UNSALTED BUTTER QUARTERS ', '4.00', 'CT', 'x(i07713*NKKRQs(x', '922287', '1'], ['Shelf 11', '76', 'NT BUTTER QUARTERS ', '1.00', 'LB', 'U(a39779*KMKKQn(X', '20066', '7'], ['Shelf 12', '77', 'FRENCH ONION DIP ', '8.00', 'OZ', 'w(h50388*LKMKPp(u', '111401', '1'], ['Shelf 12', '78', 'DEANS FRENCH ONION DIP ', '16.00', 'OZ', 'U(a26700*LMTLPp(u', '20205', '1'], ['Shelf 12', '79', 'SOUR CREAM ', '8.00', 'OZ', 'w(h50388*LKLKPs(x', '925194', '2'], ['Shelf 12', '80', 'TOP THE TATER ', '12.00', 'OZ', 'U(a70801*QOSKKs(x', '20208', '1'], ['Shelf 12', '81', 'SABRA ROASTED RED PEPPER HUMMUS 10 OZ ', '10.00', 'OZ', 'U(a40822*KLLPOt(y', '922130', '1'], ['Shelf 13', '82', 'DEANS CREAMY DILL DIP ', '8.00', 'OZ', 'U(a26700*LMTKQn(X', '20203', '1'], ['Shelf 13', '83', 'PHILLY CREAM CHEESE BAR ', '8.00', 'OZ', 'U(a21000*QLMMNt(y', '20344', '1'], ['Shelf 13', '84', 'PHILLY ONION & CHIVE CREAM CHEESE TUB ', '8.00', 'OZ', 'U(a21000*KKRMSs(x', '20343', '1'], ['Shelf 13', '85', 'KEMPS 2% LOWFAT COTTAGE CHEESE 16 OZ ', '16.00', 'OZ', 'U(a41483*KNQLKk(U', '923657', '1'], ['Shelf 13', '86', 'FIESTA FRESH SALSA ', '16.00', 'OZ', 'x(i29595*KKKKLr(w', '30565', '1'], ['Shelf 13', '87', 'WHOLLY GUACAMOLE BOWL CLASSIC ', '7.50', 'OZ', 'v(g16112*SQQRKm(W', '928425', '1'], ['Shelf 14', '92', 'CRYSTAL FARMS AMERICAN CHEESE SLICES ', '12.00', 'OZ', 'U(a75925*NKKLRr(w', '920929', '1'], ['Shelf 14', '93', 'CRYSTAL FARMS WISCONSIN SHARP CHEDDAR C... ', '8.00', 'OZ', 'U(a75925*NKLKPl(V', '920928', '1'], ['Shelf 14', '94', 'CRYSTAL FARMS PEPPER JACK CHEESE ', '8.00', 'OZ', 'U(a75925*NKKSTo(Y', '920927', '1'], ['CC Rack-1', '88', 'PHILLY CREAM CHEESE ONION CHIVE ', '1.00', 'OZ', 'U(a21000*RMQSPl(V', '20738', '1'], ['CC Rack-1', '89', 'PHILLY CREAM CHEESE STRAWBERRY ', '1.00', 'OZ', 'U(a21000*RMQSNr(w', '20737', '1'], ['CC Rack-1', '95', 'BUTTER SINGLE SERVE ', '1.00', 'CT', 'U(a99999*PMKLQn(X', '520163', '1'], ['Shelf 15', '96', 'CRYSTAL FARMS MOZZARELLA FINE SHREDDED C... ', '8.00', 'OZ', 'U(a75925*NKQNLp(u', '920926', '1'], ['Shelf 15', '97', 'CRYSTAL FARMS MILD CHEDDAR FINE SHREDDED... ', '8.00', 'OZ', 'U(a75925*NKQMTm(W', '920925', '1'], ['Shelf 15', '98', 'KC MEDIUM CHEDDAR CHEESE SLICES 8 OZ ', '8.00', 'OZ', 'U(a39779*KKKQMl(V', '920887', '1'], ['Shelf 15', '99', 'KC COLBY JACK CHEESE SLICES 8 OZ ', '8.00', 'OZ', 'U(a39779*KKKQNs(x', '920888', '1'], ['Shelf 15', '100', 'KC STRING CHEESE REGULAR 12 OZ BAG ', '12.00', 'OZ', 'U(a39779*KMKQRo(Y', '20672', '1'], ['Shelf 16', '101', 'KEMPS SELECT HEAVY WHIPPED CREAM 13 OZ ', '12.00', 'CT', 'U(a41483*KOMQKq(v', '925331', '1'], ['Shelf 16', '102', 'KEMPS HEAVY WHIPPING CREAM ', '8.00', 'OZ', 'U(a41483*KKQOQm(W', '111303', '1'], ['Shelf 16', '103', 'INT DELIGHT FR VAN ', '16.000', 'Z', 'U(a41271*KMPQMk(U', '20636', '1'], ['Shelf 16', '104', 'NT CINN HAZELNUT CREAMER ', '16.00', 'OZ', 'U(a39779*LLLMNp(u', '111206', '1'], ['Shelf 16', '105', 'NT IRISH CREAM CREAMER ', '16.00', 'OZ', 'U(a39779*LLLNMr(w', '111207', '1'], ['Shelf 16', '106', 'NT FRENCH VANILLA CREAMER ', '16.00', 'OZ', 'U(a39779*LLLMMs(x', '111205', '1'], ['Shelf 16', '107', 'NT 1/2 & 1/2 PINT ', '16.00', 'OZ', 'U(a39779*LLLMLl(V', '111204', '1'], ['Shelf 16', '108', \"NATURE'S TOUCH FRENCH VANILLA CREAMER \", '1.00', 'QT', 'U(a39779*LLMRKq(v', '111215', '1'], ['Shelf 16', '109', 'NT 1/2 & 1/2 QUART ', '1.00', 'QT', 'U(a39779*LLLNNo(Y', '111208', '1'], ['CC Rack -2', '90', 'PHILLY CREAM CHEESE REDUC FAT ', '1.00', 'OZ', 'U(a21000*QLKTPm(W', '20740', '1'], ['CC Rack -2', '91', 'PHILLY CREAM CHEESE ORIG ', '1.00', 'OZ', 'U(a21000*QLLLTp(u', '20739', '1'], ['Deleted Items- Adjust...', '110', 'NAKED BERRY BLAST ', '15.20', 'OZ', 'U(a82592*TSSLPr(w', '4013', '1'], ['Deleted Items- Adjust...', '111', 'NAKED MIGHTY MANGO ', '15.20', 'OZ', 'U(a82592*QQKLPm(W', '4011', '1'], ['Deleted Items', '112', 'STARBUCKS COLD BREW COFFEE COCOA & HONE... ', '11.00', 'OZ', 'U(a12000*LQMPOl(V', 'PEPSI', '1'], ['Deleted Items', '113', 'STARBUCKS COLD BREW COFFEE BLACK UNSWEE... ', '11.00', 'OZ', 'U(a12000*LQMPMr(w', 'PEPSI', '1'], ['Added Items', '34', 'STARBUCKS NITRO SWEET CREAM ', '9.60', 'OZ', 'U(a12000*LTMTKq(v', 'PEPSI', '1'], ['Added Items', '46', 'MONSTER JAVA MEAN BEAN ', '15.00', 'OZ', 'U(a70847*SLMQKt(y', 'COKE', '1'], ['Added Items', '47', 'MONSTER JAVA LOCA MOCHA ', '15.00', 'OZ', 'U(a70847*SLMRLp(u', 'COKE', '1'], ['Added Items', '63', 'STARBUCKS TRIPLE SHOT ENERGY EXT ST FR VA... ', '15.00', 'OZ', 'U(a12000*LSLNLn(X', 'PEPSI', '1']]\n"
     ]
    }
   ],
   "source": [
    "shelf_re ='Shelf|CC Rack|Deleted Items- Adjust|Deleted Item|Added Item'\n",
    "line_re = re.compile(r'\\d')\n",
    "all_record = []\n",
    "with pdfplumber.open(PDF_FILE) as pdf:\n",
    "        pages = pdf.pages\n",
    "        shelf_record = []\n",
    "        page_shelf_record_dict = {}\n",
    "        table_number = 0\n",
    "        shelf_num_index = ''\n",
    "        for i,page in enumerate(pages):\n",
    "            if i>0:\n",
    "                page_number = \"page_\"+str(i)\n",
    "                text = page.extract_text()\n",
    "                shelf_record_dict = {}\n",
    "                \n",
    "                for line in text.split('\\n'):\n",
    "                    shelf_number = re.findall(shelf_re, line, flags=re.IGNORECASE)\n",
    "                    if shelf_number:\n",
    "                        shelf_num_index = re.search(shelf_number[0]+'\\s*([a-zA-Z0-9_.-]*)',line).group()\n",
    "                    else:\n",
    "                        if line.startswith('Loc. ID '):\n",
    "                            table_number = table_number+1\n",
    "                            print(\"##### Start a new Table#####\")\n",
    "\n",
    "                        elif line_re.search(line) and (table_number>0):\n",
    "                            line_desc = get_table_info(shelf_num_index,line)\n",
    "                            if line_desc:\n",
    "                                all_record.append(line_desc)\n",
    "                            print(line_desc)\n",
    "print(all_record)"
   ]
  },
  {
   "cell_type": "markdown",
   "metadata": {},
   "source": [
    "**Export into CSV or TSV**"
   ]
  },
  {
   "cell_type": "code",
   "execution_count": 7,
   "metadata": {},
   "outputs": [],
   "source": [
    "df = pd.DataFrame(all_record,columns=['Shelf No.', 'Loc.ID', 'Name', 'Size', 'UOM', 'UPC-Barcode', 'Stockcode', 'Facings'])\n",
    "csv_file = PDF_FILE.split('.')[0] + '.table.csv'\n",
    "tsv_file = PDF_FILE.split('.')[0] + '.table.tsv'\n",
    "df.to_csv(tsv_file,sep='\\t', index=False)\n",
    "df.to_csv(csv_file, index=False)"
   ]
  },
  {
   "cell_type": "code",
   "execution_count": null,
   "metadata": {},
   "outputs": [],
   "source": []
  },
  {
   "cell_type": "code",
   "execution_count": null,
   "metadata": {},
   "outputs": [],
   "source": []
  }
 ],
 "metadata": {
  "kernelspec": {
   "display_name": "Python 3",
   "language": "python",
   "name": "python3"
  },
  "language_info": {
   "codemirror_mode": {
    "name": "ipython",
    "version": 3
   },
   "file_extension": ".py",
   "mimetype": "text/x-python",
   "name": "python",
   "nbconvert_exporter": "python",
   "pygments_lexer": "ipython3",
   "version": "3.7.0"
  }
 },
 "nbformat": 4,
 "nbformat_minor": 2
}
