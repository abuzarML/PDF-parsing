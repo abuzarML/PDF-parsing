{
 "cells": [
  {
   "cell_type": "code",
   "execution_count": 1,
   "metadata": {},
   "outputs": [],
   "source": [
    "import re\n",
    "import pdfplumber\n",
    "import json"
   ]
  },
  {
   "cell_type": "code",
   "execution_count": 2,
   "metadata": {},
   "outputs": [],
   "source": [
    "PDF_FILE = '2 DR BREAKFAST W- KIDS.pdf'"
   ]
  },
  {
   "cell_type": "code",
   "execution_count": 3,
   "metadata": {},
   "outputs": [],
   "source": [
    "def create_json_map():\n",
    "    \n",
    "    with pdfplumber.open(PDF_FILE) as pdf:\n",
    "        pages = pdf.pages\n",
    "        shelf_record = []\n",
    "        page_shelf_record_dict = {}\n",
    "        shelf_re = 'Shelf|CC Rack|Deleted Items- Adjust...|Deleted Items|'\n",
    "        for i,page in enumerate(pages):\n",
    "\n",
    "            print(\"##################\",page,\"#################\")    \n",
    "            if i>0:\n",
    "                page_number = \"page_\"+str(i+1)\n",
    "                text = page.extract_text()\n",
    "                shelf_record_dict = {}\n",
    "                for line in text.split('\\n'):\n",
    "                    shelf_number = re.findall(shelf_re, line, flags=re.IGNORECASE)\n",
    "\n",
    "                    if shelf_number:\n",
    "                        shelf_num_index = re.search(shelf_number[0]+'\\s*([a-zA-Z0-9_.-]*)',line).group()\n",
    "                        shelf_num_width =  re.search('Width:'+'\\s*([a-zA-Z0-9_.-.\\']*)',line).group()\n",
    "                        shelf_num_depth = re.search('Depth:'+'\\s*([a-zA-Z0-9_.-.\\']*)\\s*([a-zA-Z0-9_.-.\\']*)',line).group()\n",
    "                        shelf_record_dict[shelf_num_index] = {\"Width:\":shelf_num_width.split()[1], \"Depth\":shelf_num_depth.split(': ')[1]}\n",
    "\n",
    "                        shelf_record.append(shelf_num_index)\n",
    "                page_shelf_record_dict[page_number] = shelf_record_dict \n",
    "        print(page_shelf_record_dict)\n",
    "        \n",
    "        dict_to_json = json.dumps(page_shelf_record_dict)\n",
    "        print(\"Successfully created JSON File!!\")\n",
    "\n",
    "        json_file = PDF_FILE.split('.')[0] + \".shelves.json\"\n",
    "        with open(json_file, \"w\") as f:\n",
    "            f.write(dict_to_json)\n",
    "        #     print(shelf_record)"
   ]
  },
  {
   "cell_type": "code",
   "execution_count": 4,
   "metadata": {},
   "outputs": [
    {
     "name": "stdout",
     "output_type": "stream",
     "text": [
      "################## <Page:1> #################\n",
      "################## <Page:2> #################\n",
      "################## <Page:3> #################\n",
      "################## <Page:4> #################\n",
      "################## <Page:5> #################\n",
      "{'page_2': {'Shelf 1': {'Width:': \"2'4.00\", 'Depth': '27.00 in'}, 'Shelf 2': {'Width:': \"2'4.00\", 'Depth': '27.00 in'}, 'Shelf 3': {'Width:': \"2'4.00\", 'Depth': '27.00 in'}, 'Shelf 4': {'Width:': \"2'4.00\", 'Depth': '27.00 in'}}, 'page_3': {'Shelf 5': {'Width:': \"2'4.00\", 'Depth': '27.00 in'}, 'Shelf 6': {'Width:': \"2'4.00\", 'Depth': '27.00 in'}, 'Shelf 7': {'Width:': \"2'4.00\", 'Depth': '27.00 in'}, 'Shelf 8': {'Width:': \"2'4.00\", 'Depth': '27.00 in'}, 'Shelf 9': {'Width:': \"2'4.00\", 'Depth': '27.00 in'}}, 'page_4': {'Shelf 10': {'Width:': \"2'4.00\", 'Depth': '27.00 in'}, 'Shelf 11': {'Width:': \"2'4.00\", 'Depth': '27.00 in'}, 'Shelf 12': {'Width:': \"2'4.00\", 'Depth': '27.00 in'}, 'Shelf 13': {'Width:': \"2'4.00\", 'Depth': '27.00 in'}, 'Shelf 14': {'Width:': \"2'4.00\", 'Depth': '27.00 in'}, 'CC Rack-1': {'Width:': \"0'5.38\", 'Depth': '12.00 in'}, 'Shelf 15': {'Width:': \"2'4.00\", 'Depth': '27.00 in'}}, 'page_5': {'Shelf 16': {'Width:': \"2'4.00\", 'Depth': '27.00 in'}, 'CC Rack -2': {'Width:': \"0'5.38\", 'Depth': '12.00 in'}}}\n",
      "Successfully created JSON File!!\n"
     ]
    }
   ],
   "source": [
    "create_json_map()"
   ]
  },
  {
   "cell_type": "code",
   "execution_count": 5,
   "metadata": {},
   "outputs": [],
   "source": [
    "def get_table_info(index,l):\n",
    "    l= l.rstrip()\n",
    "    l= l.lstrip()\n",
    "\n",
    "    loc_id = l.split()[0]\n",
    "    l = ' '.join(l.split(' ')[1:])\n",
    "    check_int = re.findall('\\d+',loc_id)\n",
    "    if not check_int:\n",
    "        return []\n",
    "\n",
    "    facing = l.split()[-1]\n",
    "    l = ' '.join(l.split(' ')[:-1])\n",
    "\n",
    "    stockcode = l.split()[-1]\n",
    "    l = ' '.join(l.split(' ')[:-1])\n",
    "\n",
    "    bar_code = l.split()[-1]\n",
    "    l = ' '.join(l.split(' ')[:-1])\n",
    "\n",
    "#     print(l)\n",
    "    size_uom = l.split()[-1]  #only split last one and then extract size and uom\n",
    "#     print(size_uom)\n",
    "    \n",
    "    l = ' '.join(l.split(size_uom)[:-1])\n",
    "    \n",
    "    size =''\n",
    "    uom = ''\n",
    "    if re.search('\\d+\\.\\d+',size_uom) :\n",
    "        size = re.search('\\d+\\.\\d+',size_uom).group()\n",
    "    else:\n",
    "        return []\n",
    "#         print(\"pattern not matched!!!\")\n",
    "    \n",
    "    if size:\n",
    "        uom =size_uom.split(size)[-1]\n",
    "    else:\n",
    "        return []\n",
    "    \n",
    "#     print(uom)\n",
    "#     l = ' '.join(l.split(' ')[:-1])\n",
    "#     l = re.sub(size,'',l)\n",
    "\n",
    "#     uom = l.split()[-1]\n",
    "#     l = ' '.join(l.split(' ')[:-1])\n",
    "\n",
    "    name = l\n",
    "\n",
    "    line_desc = [index,loc_id, name, size, uom, bar_code, stockcode, facing]\n",
    "\n",
    "    return line_desc\n"
   ]
  },
  {
   "cell_type": "code",
   "execution_count": 6,
   "metadata": {
    "scrolled": true
   },
   "outputs": [
    {
     "name": "stdout",
     "output_type": "stream",
     "text": [
      "################## <Page:1> #################\n",
      "################## <Page:2> #################\n",
      "2 DR LH BREAKFAST W- KIDS* (Front View) 9-20 (store 846 )\n",
      "Planogram Item Listing Report\n",
      "Planogram: 2 DR LH BREAKFAST W- KIDS* (Fr...Width: 4 ft 8.00 in Segments: 2\n",
      "Loc. ID Name Size UOM UPC - Barcode Stockcode Facings\n",
      "##### Start a new Table#####\n",
      "1 ARIZONA ARNOLD PALMER HALF & HALF STRAWB... 23.00OZ v(g13008*RNPNKm(W 7635 1\n",
      "['Shelf 1', '1', 'ARIZONA ARNOLD PALMER HALF & HALF STRAWB... ', '23.00', 'OZ', 'v(g13008*RNPNKm(W', '7635', '1']\n",
      "2 ARIZONA ARNOLD PALMER HALF & HALF TEA/LEM... 23.00OZ v(g13008*RLTNKm(W 7616 1\n",
      "['Shelf 1', '2', 'ARIZONA ARNOLD PALMER HALF & HALF TEA/LEM... ', '23.00', 'OZ', 'v(g13008*RLTNKm(W', '7616', '1']\n",
      "3 ARIZONA RX ENERGY 23.00OZ v(g13008*RLSOPt(y 7614 1\n",
      "['Shelf 1', '3', 'ARIZONA RX ENERGY ', '23.00', 'OZ', 'v(g13008*RLSOPt(y', '7614', '1']\n",
      "4 ARIZONA SWEET TEA CAN 23.00OZ v(g13008*RLRRLl(V 7612 1\n",
      "['Shelf 1', '4', 'ARIZONA SWEET TEA CAN ', '23.00', 'OZ', 'v(g13008*RLRRLl(V', '7612', '1']\n",
      "5 ARIZONA RASPBERRY TEA 23.00OZ v(g13008*RNPORk(U 7611 1\n",
      "['Shelf 1', '5', 'ARIZONA RASPBERRY TEA ', '23.00', 'OZ', 'v(g13008*RNPORk(U', '7611', '1']\n",
      "6 ARIZONA GREEN TEA 23.00OZ v(g13008*RLPMQr(w 7610 1\n",
      "['Shelf 1', '6', 'ARIZONA GREEN TEA ', '23.00', 'OZ', 'v(g13008*RLPMQr(w', '7610', '1']\n",
      "7 ARIZONA MUCHO MANGO TALL BOY 20 OZ 20.00OZ v(g13008*RPLNNn(X 924835 1\n",
      "['Shelf 1', '7', 'ARIZONA MUCHO MANGO TALL BOY 20 OZ ', '20.00', 'OZ', 'v(g13008*RPLNNn(X', '924835', '1']\n",
      "8 LIPTON GREEN TEA W/CITRUS 20.00OZ U(a12000*KLMRPo(Y PEPSI 1\n",
      "['Shelf 1', '8', 'LIPTON GREEN TEA W/CITRUS ', '20.00', 'OZ', 'U(a12000*KLMRPo(Y', 'PEPSI', '1']\n",
      "9 LIPTON PURE LEAF RASPBERRY TEA 18.50OZ U(a12000*MSQMMn(X PEPSI 1\n",
      "['Shelf 1', '9', 'LIPTON PURE LEAF RASPBERRY TEA ', '18.50', 'OZ', 'U(a12000*MSQMMn(X', 'PEPSI', '1']\n",
      "Loc. ID Name Size UOM UPC - Barcode Stockcode Facings\n",
      "##### Start a new Table#####\n",
      "10 KWIKADE ARCTIC FREEZE 12.00OZ U(a39779*LLLSRr(w 111021 1\n",
      "['Shelf 2', '10', 'KWIKADE ARCTIC FREEZE ', '12.00', 'OZ', 'U(a39779*LLLSRr(w', '111021', '1']\n",
      "11 KWIKADE FRT PNCH 12.00OZ U(a39779*LLLPOt(y 111012 1\n",
      "['Shelf 2', '11', 'KWIKADE FRT PNCH ', '12.00', 'OZ', 'U(a39779*LLLPOt(y', '111012', '1']\n",
      "12 KWIKADE GRAPE 12.00OZ U(a39779*LLLPNm(W 111011 1\n",
      "['Shelf 2', '12', 'KWIKADE GRAPE ', '12.00', 'OZ', 'U(a39779*LLLPNm(W', '111011', '1']\n",
      "13 CLUB HOUSE FRUIT PUNCH 10 OZ 24.00CT x(i54340*KKOMNl(V 925648 1\n",
      "['Shelf 2', '13', 'CLUB HOUSE FRUIT PUNCH 10 OZ ', '24.00', 'CT', 'x(i54340*KKOMNl(V', '925648', '1']\n",
      "14 CLUB HOUSE BLUE RASPBERRY 10 OZ 24.00CT x(i54340*KKOMPp(u 925651 1\n",
      "['Shelf 2', '14', 'CLUB HOUSE BLUE RASPBERRY 10 OZ ', '24.00', 'CT', 'x(i54340*KKOMPp(u', '925651', '1']\n",
      "15 GOOD 2 GROW FRUIT PUNCH 6.00OZ x(i83990*QPLMKp(u 921703 1\n",
      "['Shelf 2', '15', 'GOOD 2 GROW FRUIT PUNCH ', '6.00', 'OZ', 'x(i83990*QPLMKp(u', '921703', '1']\n",
      "16 GOOD 2 GROW APPLE JUICE 6.00OZ x(i83990*QQLKKq(v 921727 1\n",
      "['Shelf 2', '16', 'GOOD 2 GROW APPLE JUICE ', '6.00', 'OZ', 'x(i83990*QQLKKq(v', '921727', '1']\n",
      "17 LIPTON PURE LEAF TEA SWEETENED/NO LEMON 18.50OZ U(a12000*MSQLTn(X PEPSI 2\n",
      "['Shelf 2', '17', 'LIPTON PURE LEAF TEA SWEETENED/NO LEMON ', '18.50', 'OZ', 'U(a12000*MSQLTn(X', 'PEPSI', '2']\n",
      "18 LIPTON PURE LEAF TEA W/LEMON 18.50OZ U(a12000*MSQLSq(v PEPSI 1\n",
      "['Shelf 2', '18', 'LIPTON PURE LEAF TEA W/LEMON ', '18.50', 'OZ', 'U(a12000*MSQLSq(v', 'PEPSI', '1']\n",
      "Loc. ID Name Size UOM UPC - Barcode Stockcode Facings\n",
      "##### Start a new Table#####\n",
      "19 NATURE'S TOUCH 50/50 LEMONADE TEA 20.00OZ U(a39779*LLMMNm(W 111133 1\n",
      "['Shelf 3', '19', \"NATURE'S TOUCH 50/50 LEMONADE TEA \", '20.00', 'OZ', 'U(a39779*LLMMNm(W', '111133', '1']\n",
      "20 NATURE'S TOUCH PEACH TEA LEMONADE 20.00OZ U(a39779*LLMRRp(u 111139 1\n",
      "['Shelf 3', '20', \"NATURE'S TOUCH PEACH TEA LEMONADE \", '20.00', 'OZ', 'U(a39779*LLMRRp(u', '111139', '1']\n",
      "21 NATURE'S TOUCH PEACH TEA 20.00OZ U(a39779*LLMRNr(w 111138 1\n",
      "['Shelf 3', '21', \"NATURE'S TOUCH PEACH TEA \", '20.00', 'OZ', 'U(a39779*LLMRNr(w', '111138', '1']\n",
      "22 NATURE'S TOUCH RASPBERRY TEA 20.00OZ U(a39779*LLMQSn(X 111135 1\n",
      "['Shelf 3', '22', \"NATURE'S TOUCH RASPBERRY TEA \", '20.00', 'OZ', 'U(a39779*LLMQSn(X', '111135', '1']\n",
      "23 NATURE'S TOUCH POMEGRANATE ACAI TEA 20.00OZ U(a39779*LLMMLs(x 111131 1\n",
      "['Shelf 3', '23', \"NATURE'S TOUCH POMEGRANATE ACAI TEA \", '20.00', 'OZ', 'U(a39779*LLMMLs(x', '111131', '1']\n",
      "24 NT SWEET TEA 20.00OZ U(a39779*LLMSLm(W 921127 1\n",
      "['Shelf 3', '24', 'NT SWEET TEA ', '20.00', 'OZ', 'U(a39779*LLMSLm(W', '921127', '1']\n",
      "25 NATURE'S TOUCH LEMONADE 20.00OZ U(a39779*LLMLQo(Y 111128 1\n",
      "['Shelf 3', '25', \"NATURE'S TOUCH LEMONADE \", '20.00', 'OZ', 'U(a39779*LLMLQo(Y', '111128', '1']\n",
      "26 NATURE'S TOUCH RASPBERRY LEMONADE 20.00OZ U(a39779*LLMRLn(X 111137 1\n",
      "['Shelf 3', '26', \"NATURE'S TOUCH RASPBERRY LEMONADE \", '20.00', 'OZ', 'U(a39779*LLMRLn(X', '111137', '1']\n",
      "27 PURE LEAF HERBAL TEA PEACH HIBISCUS 18.5 OZ 18.50OZ U(a12000*LSLKPo(Y PEPSI 1\n",
      "['Shelf 3', '27', 'PURE LEAF HERBAL TEA PEACH HIBISCUS 18.5 OZ ', '18.50', 'OZ', 'U(a12000*LSLKPo(Y', 'PEPSI', '1']\n",
      "28 PURE LEAF HERBAL TEA CHERRY HIBISCUS 18.5 OZ 18.50OZ U(a12000*LSKTOl(V PEPSI 1\n",
      "['Shelf 3', '28', 'PURE LEAF HERBAL TEA CHERRY HIBISCUS 18.5 OZ ', '18.50', 'OZ', 'U(a12000*LSKTOl(V', 'PEPSI', '1']\n",
      "Loc. ID Name Size UOM UPC - Barcode Stockcode Facings\n",
      "##### Start a new Table#####\n",
      "29 SNAPPLE KIWI STRAWBERRY 16.00OZ U(a76183*KKNLKr(w KDB 1\n",
      "['Shelf 4', '29', 'SNAPPLE KIWI STRAWBERRY ', '16.00', 'OZ', 'U(a76183*KKNLKr(w', 'KDB', '1']\n",
      "30 SNAPPLE ALL NATURAL APPLE 16.00OZ U(a76183*KKNMSm(W KDP 1\n",
      "['Shelf 4', '30', 'SNAPPLE ALL NATURAL APPLE ', '16.00', 'OZ', 'U(a76183*KKNMSm(W', 'KDP', '1']\n",
      "31 EVERFRESH ORANGE JUICE 16.00OZ U(a76737*LMMNKs(x 20893 1\n",
      "['Shelf 4', '31', 'EVERFRESH ORANGE JUICE ', '16.00', 'OZ', 'U(a76737*LMMNKs(x', '20893', '1']\n",
      "32 EVERFRESH APPLE JUICE 16.00OZ U(a76737*LMMNMm(W 20892 1\n",
      "['Shelf 4', '32', 'EVERFRESH APPLE JUICE ', '16.00', 'OZ', 'U(a76737*LMMNMm(W', '20892', '1']\n",
      "33 STARBUCKS NITRO BLACK 9.60OZ U(a12000*LTMSQt(y PEPSI 1\n",
      "['Shelf 4', '33', 'STARBUCKS NITRO BLACK ', '9.60', 'OZ', 'U(a12000*LTMSQt(y', 'PEPSI', '1']\n",
      "34 STARBUCKS NITRO SWEET CREAM 9.60OZ U(a12000*LTMTKq(v PEPSI 1\n",
      "['Shelf 4', '34', 'STARBUCKS NITRO SWEET CREAM ', '9.60', 'OZ', 'U(a12000*LTMTKq(v', 'PEPSI', '1']\n",
      "35 KEVITA MASTER BREW KOMBUCHA PINEAPPLE PE... 15.20OZ x(i53311*KKNQKk(U 924164 1\n",
      "['Shelf 4', '35', 'KEVITA MASTER BREW KOMBUCHA PINEAPPLE PE... ', '15.20', 'OZ', 'x(i53311*KKNQKk(U', '924164', '1']\n",
      "Page: 2 of 5 3/3/2021\n",
      "[]\n",
      "################## <Page:3> #################\n",
      "2 DR LH BREAKFAST W- KIDS* (Front View) 9-20 (store 846 )\n",
      "[]\n",
      "Planogram Item Listing Report\n",
      "36 KEVITA MBK TART CHERRY 15.2 OZ 15.20OZ x(i53311*KKNQLr(w 925175 1\n",
      "['Shelf 4', '36', 'KEVITA MBK TART CHERRY 15.2 OZ ', '15.20', 'OZ', 'x(i53311*KKNQLr(w', '925175', '1']\n",
      "37 LIPTON PURE LEAF UNSWEETENED 18.50OZ U(a12000*MSQMKt(y PEPSI 1\n",
      "['Shelf 4', '37', 'LIPTON PURE LEAF UNSWEETENED ', '18.50', 'OZ', 'U(a12000*MSQMKt(y', 'PEPSI', '1']\n",
      "Loc. ID Name Size UOM UPC - Barcode Stockcode Facings\n",
      "##### Start a new Table#####\n",
      "38 SIMPLY CRANBERRY JUICE 11.50OZ U(a25000*KKKNKk(U 4026 1\n",
      "['Shelf 5', '38', 'SIMPLY CRANBERRY JUICE ', '11.50', 'OZ', 'U(a25000*KKKNKk(U', '4026', '1']\n",
      "39 SIMPLY RASPBERRY LEMONADE JUICE 11.50OZ U(a25000*KKKLSs(x 4024 1\n",
      "['Shelf 5', '39', 'SIMPLY RASPBERRY LEMONADE JUICE ', '11.50', 'OZ', 'U(a25000*KKKLSs(x', '4024', '1']\n",
      "40 SIMPLY LEMONADE JUICE 11.50OZ U(a25000*KKKMLs(x 4023 1\n",
      "['Shelf 5', '40', 'SIMPLY LEMONADE JUICE ', '11.50', 'OZ', 'U(a25000*KKKMLs(x', '4023', '1']\n",
      "41 SIMPLY ORANGE JUICE - PULP FREE 11.50OZ U(a25000*KKKMOt(y 4022 1\n",
      "['Shelf 5', '41', 'SIMPLY ORANGE JUICE - PULP FREE ', '11.50', 'OZ', 'U(a25000*KKKMOt(y', '4022', '1']\n",
      "42 NAKED GREEN MACHINE 15.20OZ U(a82592*RMKLPn(X 4016 1\n",
      "['Shelf 5', '42', 'NAKED GREEN MACHINE ', '15.20', 'OZ', 'U(a82592*RMKLPn(X', '4016', '1']\n",
      "43 NAKED JUICE STRAWBRY BANA 15.20OZ U(a82592*LTOLPm(W 4014 1\n",
      "['Shelf 5', '43', 'NAKED JUICE STRAWBRY BANA ', '15.20', 'OZ', 'U(a82592*LTOLPm(W', '4014', '1']\n",
      "44 NAKED JUICE BLUE MACHINE 15.20OZ U(a82592*RMRLPm(W 4012 1\n",
      "['Shelf 5', '44', 'NAKED JUICE BLUE MACHINE ', '15.20', 'OZ', 'U(a82592*RMRLPm(W', '4012', '1']\n",
      "45 V8 VEGTABLE JUICE 12.00OZ U(a51000*LNSKNn(X 3655 1\n",
      "['Shelf 5', '45', 'V8 VEGTABLE JUICE ', '12.00', 'OZ', 'U(a51000*LNSKNn(X', '3655', '1']\n",
      "46 MONSTER JAVA MEAN BEAN 15.00OZ U(a70847*SLMQKt(y COKE 1\n",
      "['Shelf 5', '46', 'MONSTER JAVA MEAN BEAN ', '15.00', 'OZ', 'U(a70847*SLMQKt(y', 'COKE', '1']\n",
      "47 MONSTER JAVA LOCA MOCHA 15.00OZ U(a70847*SLMRLp(u COKE 1\n",
      "['Shelf 5', '47', 'MONSTER JAVA LOCA MOCHA ', '15.00', 'OZ', 'U(a70847*SLMRLp(u', 'COKE', '1']\n",
      "Loc. ID Name Size UOM UPC - Barcode Stockcode Facings\n",
      "##### Start a new Table#####\n",
      "48 STARBUCKS ESPRESSO & CREAM DOUBLE SHOP ... 6.50OZ U(a12000*KKLRRm(W PEPSI 1\n",
      "['Shelf 6', '48', 'STARBUCKS ESPRESSO & CREAM DOUBLE SHOP ... ', '6.50', 'OZ', 'U(a12000*KKLRRm(W', 'PEPSI', '1']\n",
      "49 STARBUCKS DBLSHT MOCHA 15.00OZ U(a12000*KMSOPs(x PEPSI 1\n",
      "['Shelf 6', '49', 'STARBUCKS DBLSHT MOCHA ', '15.00', 'OZ', 'U(a12000*KMSOPs(x', 'PEPSI', '1']\n",
      "50 STARBUCKS DBLSHT VANILLA 15.00OZ U(a12000*KMSOTq(v PEPSI 1\n",
      "['Shelf 6', '50', 'STARBUCKS DBLSHT VANILLA ', '15.00', 'OZ', 'U(a12000*KMSOTq(v', 'PEPSI', '1']\n",
      "51 FRAPPUCCINO MOCHA 13.70OZ U(a12000*KKOPMk(U PEPSI 1\n",
      "['Shelf 6', '51', 'FRAPPUCCINO MOCHA ', '13.70', 'OZ', 'U(a12000*KKOPMk(U', 'PEPSI', '1']\n",
      "52 FRAPPUCCINO VANILLA 13.70OZ U(a12000*SLNNLn(X PEPSI 1\n",
      "['Shelf 6', '52', 'FRAPPUCCINO VANILLA ', '13.70', 'OZ', 'U(a12000*SLNNLn(X', 'PEPSI', '1']\n",
      "53 STARBUCKS FRAPPUCCINO CARAMEL 13.70OZ U(a12000*KLQRMl(V PEPSI 1\n",
      "['Shelf 6', '53', 'STARBUCKS FRAPPUCCINO CARAMEL ', '13.70', 'OZ', 'U(a12000*KLQRMl(V', 'PEPSI', '1']\n",
      "54 NT KG CAPP DOUBLE SHOT FR VANILLA PINT 16.00OZ U(a39779*LKTTTr(w 921655 1\n",
      "['Shelf 6', '54', 'NT KG CAPP DOUBLE SHOT FR VANILLA PINT ', '16.00', 'OZ', 'U(a39779*LKTTTr(w', '921655', '1']\n",
      "55 KARUBA GOLD CAPPUCCINO WHITE CHOCOLATE ... 16.00OZ U(a39779*KKKSOn(X 921034 1\n",
      "['Shelf 6', '55', 'KARUBA GOLD CAPPUCCINO WHITE CHOCOLATE ... ', '16.00', 'OZ', 'U(a39779*KKKSOn(X', '921034', '1']\n",
      "56 KARUBA GOLD MOCHA CAPPUCCINO 16.00OZ U(a39779*LLMRQs(x 111216 1\n",
      "['Shelf 6', '56', 'KARUBA GOLD MOCHA CAPPUCCINO ', '16.00', 'OZ', 'U(a39779*LLMRQs(x', '111216', '1']\n",
      "57 CHINO ICED CAPP FVAN 16.00OZ U(a39779*LLLKKq(v 111005 1\n",
      "['Shelf 6', '57', 'CHINO ICED CAPP FVAN ', '16.00', 'OZ', 'U(a39779*LLLKKq(v', '111005', '1']\n",
      "Loc. ID Name Size UOM UPC - Barcode Stockcode Facings\n",
      "##### Start a new Table#####\n",
      "58 MUSCLE MILK PRO 40 KNOCKOUT CHOCOLATE 14.00OZ x(i76063*KKMSKq(v PEPSI 1\n",
      "['Shelf 7', '58', 'MUSCLE MILK PRO 40 KNOCKOUT CHOCOLATE ', '14.00', 'OZ', 'x(i76063*KKMSKq(v', 'PEPSI', '1']\n",
      "59 MUSCLE MILK PRO SERIES INTENSE VANILLA 14.00OZ x(i76063*KKMSLn(X PEPSI 1\n",
      "['Shelf 7', '59', 'MUSCLE MILK PRO SERIES INTENSE VANILLA ', '14.00', 'OZ', 'x(i76063*KKMSLn(X', 'PEPSI', '1']\n",
      "60 MUSCLE MILK CHOCOLATE 14.00OZ x(i76063*KKMKLl(V PEPSI 1\n",
      "['Shelf 7', '60', 'MUSCLE MILK CHOCOLATE ', '14.00', 'OZ', 'x(i76063*KKMKLl(V', 'PEPSI', '1']\n",
      "61 MUSCLE MILK VANILLA CRÈME 14.00OZ x(i76063*KKMKMs(x PEPSI 1\n",
      "['Shelf 7', '61', 'MUSCLE MILK VANILLA CRÈME ', '14.00', 'OZ', 'x(i76063*KKMKMs(x', 'PEPSI', '1']\n",
      "62 STARBUCKS TRIPLE SHOT ENERGY EXT ST CAFFE ... 15.00OZ U(a12000*LSLMTk(U PEPSI 1\n",
      "['Shelf 7', '62', 'STARBUCKS TRIPLE SHOT ENERGY EXT ST CAFFE ... ', '15.00', 'OZ', 'U(a12000*LSLMTk(U', 'PEPSI', '1']\n",
      "63 STARBUCKS TRIPLE SHOT ENERGY EXT ST FR VA... 15.00OZ U(a12000*LSLNLn(X PEPSI 1\n",
      "['Shelf 7', '63', 'STARBUCKS TRIPLE SHOT ENERGY EXT ST FR VA... ', '15.00', 'OZ', 'U(a12000*LSLNLn(X', 'PEPSI', '1']\n",
      "64 BLACK STAG ICED LATTE CARAMEL 13.7 OZ 13.70OZ x(i11130*KNKLSo(Y 926058 1\n",
      "['Shelf 7', '64', 'BLACK STAG ICED LATTE CARAMEL 13.7 OZ ', '13.70', 'OZ', 'x(i11130*KNKLSo(Y', '926058', '1']\n",
      "65 BLACK STAG ESPRESSO WITH CREAM 6.5 OZ 6.50OZ x(i11130*KNKSNm(W 926056 1\n",
      "['Shelf 7', '65', 'BLACK STAG ESPRESSO WITH CREAM 6.5 OZ ', '6.50', 'OZ', 'x(i11130*KNKSNm(W', '926056', '1']\n",
      "66 BLACK STAG ICED LATTE MOCHA ENERGY 15 OZ 15.00OZ x(i11130*KNKQSt(y 926057 1\n",
      "['Shelf 7', '66', 'BLACK STAG ICED LATTE MOCHA ENERGY 15 OZ ', '15.00', 'OZ', 'x(i11130*KNKQSt(y', '926057', '1']\n",
      "67 BLACK STAG ICED LATTE VANILLA ENERGY 15 OZ 15.00OZ x(i11130*KNKQRm(W 926055 1\n",
      "['Shelf 7', '67', 'BLACK STAG ICED LATTE VANILLA ENERGY 15 OZ ', '15.00', 'OZ', 'x(i11130*KNKQRm(W', '926055', '1']\n",
      "Loc. ID Name Size UOM UPC - Barcode Stockcode Facings\n",
      "##### Start a new Table#####\n",
      "68 EGGS LARGE DOZEN 1.00DZ U(a39779*KMKKOt(y 20040 7\n",
      "['Shelf 8', '68', 'EGGS LARGE DOZEN ', '1.00', 'DZ', 'U(a39779*KMKKOt(y', '20040', '7']\n",
      "Loc. ID Name Size UOM UPC - Barcode Stockcode Facings\n",
      "##### Start a new Table#####\n",
      "69 PATRICK CUDAHY THICK SLICED BACON 16.00OZ U(a43200*QLOKMs(x 499509 1\n",
      "['Shelf 9', '69', 'PATRICK CUDAHY THICK SLICED BACON ', '16.00', 'OZ', 'U(a43200*QLOKMs(x', '499509', '1']\n",
      "Page: 3 of 5 3/3/2021\n",
      "[]\n",
      "################## <Page:4> #################\n"
     ]
    },
    {
     "name": "stdout",
     "output_type": "stream",
     "text": [
      "2 DR LH BREAKFAST W- KIDS* (Front View) 9-20 (store 846 )\n",
      "[]\n",
      "Planogram Item Listing Report\n",
      "70 NATURES TOUCH ORGANIC LARGE EGGS 12.00CT U(a39779*KKKMTo(Y 920641 1\n",
      "['Shelf 9', '70', 'NATURES TOUCH ORGANIC LARGE EGGS ', '12.00', 'CT', 'U(a39779*KKKMTo(Y', '920641', '1']\n",
      "70 NATURES TOUCH ORGANIC LARGE EGGS 12.00CT U(a39779*KKKMTo(Y 920641 1\n",
      "['Shelf 9', '70', 'NATURES TOUCH ORGANIC LARGE EGGS ', '12.00', 'CT', 'U(a39779*KKKMTo(Y', '920641', '1']\n",
      "Loc. ID Name Size UOM UPC - Barcode Stockcode Facings\n",
      "##### Start a new Table#####\n",
      "71 KITCHEN CRAVINGS SLICED BACON 12.00OZ U(a39779*OTTPSq(v 499482 1\n",
      "['Shelf 10', '71', 'KITCHEN CRAVINGS SLICED BACON ', '12.00', 'OZ', 'U(a39779*OTTPSq(v', '499482', '1']\n",
      "72 FARMLAND DICED HAM 16 OZ 1.00CT U(a70247*SLSTMs(x 928647 1\n",
      "['Shelf 10', '72', 'FARMLAND DICED HAM 16 OZ ', '1.00', 'CT', 'U(a70247*SLSTMs(x', '928647', '1']\n",
      "73 RESER'S HASH BROWNS 20.00OZ U(a71117*LOOMNt(y 180428 1\n",
      "['Shelf 10', '73', \"RESER'S HASH BROWNS \", '20.00', 'OZ', 'U(a71117*LOOMNt(y', '180428', '1']\n",
      "Loc. ID Name Size UOM UPC - Barcode Stockcode Facings\n",
      "##### Start a new Table#####\n",
      "74 BLUE BONNET MARGARINE QTR 16.00OZ U(a29000*KKSMMt(y 20150 1\n",
      "['Shelf 11', '74', 'BLUE BONNET MARGARINE QTR ', '16.00', 'OZ', 'U(a29000*KKSMMt(y', '20150', '1']\n",
      "75 FORMOST UNSALTED BUTTER QUARTERS 4.00CT x(i07713*NKKRQs(x 922287 1\n",
      "['Shelf 11', '75', 'FORMOST UNSALTED BUTTER QUARTERS ', '4.00', 'CT', 'x(i07713*NKKRQs(x', '922287', '1']\n",
      "76 NT BUTTER QUARTERS 1.00LB U(a39779*KMKKQn(X 20066 7\n",
      "['Shelf 11', '76', 'NT BUTTER QUARTERS ', '1.00', 'LB', 'U(a39779*KMKKQn(X', '20066', '7']\n",
      "Loc. ID Name Size UOM UPC - Barcode Stockcode Facings\n",
      "##### Start a new Table#####\n",
      "77 FRENCH ONION DIP 8.00OZ w(h50388*LKMKPp(u 111401 1\n",
      "['Shelf 12', '77', 'FRENCH ONION DIP ', '8.00', 'OZ', 'w(h50388*LKMKPp(u', '111401', '1']\n",
      "78 DEANS FRENCH ONION DIP 16.00OZ U(a26700*LMTLPp(u 20205 1\n",
      "['Shelf 12', '78', 'DEANS FRENCH ONION DIP ', '16.00', 'OZ', 'U(a26700*LMTLPp(u', '20205', '1']\n",
      "79 SOUR CREAM 8.00OZ w(h50388*LKLKPs(x 925194 2\n",
      "['Shelf 12', '79', 'SOUR CREAM ', '8.00', 'OZ', 'w(h50388*LKLKPs(x', '925194', '2']\n",
      "80 TOP THE TATER 12.00OZ U(a70801*QOSKKs(x 20208 1\n",
      "['Shelf 12', '80', 'TOP THE TATER ', '12.00', 'OZ', 'U(a70801*QOSKKs(x', '20208', '1']\n",
      "81 SABRA ROASTED RED PEPPER HUMMUS 10 OZ 10.00OZ U(a40822*KLLPOt(y 922130 1\n",
      "['Shelf 12', '81', 'SABRA ROASTED RED PEPPER HUMMUS 10 OZ ', '10.00', 'OZ', 'U(a40822*KLLPOt(y', '922130', '1']\n",
      "Loc. ID Name Size UOM UPC - Barcode Stockcode Facings\n",
      "##### Start a new Table#####\n",
      "82 DEANS CREAMY DILL DIP 8.00OZ U(a26700*LMTKQn(X 20203 1\n",
      "['Shelf 13', '82', 'DEANS CREAMY DILL DIP ', '8.00', 'OZ', 'U(a26700*LMTKQn(X', '20203', '1']\n",
      "83 PHILLY CREAM CHEESE BAR 8.00OZ U(a21000*QLMMNt(y 20344 1\n",
      "['Shelf 13', '83', 'PHILLY CREAM CHEESE BAR ', '8.00', 'OZ', 'U(a21000*QLMMNt(y', '20344', '1']\n",
      "84 PHILLY ONION & CHIVE CREAM CHEESE TUB 8.00OZ U(a21000*KKRMSs(x 20343 1\n",
      "['Shelf 13', '84', 'PHILLY ONION & CHIVE CREAM CHEESE TUB ', '8.00', 'OZ', 'U(a21000*KKRMSs(x', '20343', '1']\n",
      "85 KEMPS 2% LOWFAT COTTAGE CHEESE 16 OZ 16.00OZ U(a41483*KNQLKk(U 923657 1\n",
      "['Shelf 13', '85', 'KEMPS 2% LOWFAT COTTAGE CHEESE 16 OZ ', '16.00', 'OZ', 'U(a41483*KNQLKk(U', '923657', '1']\n",
      "86 FIESTA FRESH SALSA 16.00OZ x(i29595*KKKKLr(w 30565 1\n",
      "['Shelf 13', '86', 'FIESTA FRESH SALSA ', '16.00', 'OZ', 'x(i29595*KKKKLr(w', '30565', '1']\n",
      "87 WHOLLY GUACAMOLE BOWL CLASSIC 7.50OZ v(g16112*SQQRKm(W 928425 1\n",
      "['Shelf 13', '87', 'WHOLLY GUACAMOLE BOWL CLASSIC ', '7.50', 'OZ', 'v(g16112*SQQRKm(W', '928425', '1']\n",
      "Loc. ID Name Size UOM UPC - Barcode Stockcode Facings\n",
      "##### Start a new Table#####\n",
      "92 CRYSTAL FARMS AMERICAN CHEESE SLICES 12.00OZ U(a75925*NKKLRr(w 920929 1\n",
      "['Shelf 14', '92', 'CRYSTAL FARMS AMERICAN CHEESE SLICES ', '12.00', 'OZ', 'U(a75925*NKKLRr(w', '920929', '1']\n",
      "93 CRYSTAL FARMS WISCONSIN SHARP CHEDDAR C... 8.00OZ U(a75925*NKLKPl(V 920928 1\n",
      "['Shelf 14', '93', 'CRYSTAL FARMS WISCONSIN SHARP CHEDDAR C... ', '8.00', 'OZ', 'U(a75925*NKLKPl(V', '920928', '1']\n",
      "94 CRYSTAL FARMS PEPPER JACK CHEESE 8.00OZ U(a75925*NKKSTo(Y 920927 1\n",
      "['Shelf 14', '94', 'CRYSTAL FARMS PEPPER JACK CHEESE ', '8.00', 'OZ', 'U(a75925*NKKSTo(Y', '920927', '1']\n",
      "Loc. ID Name Size UOM UPC - Barcode Stockcode Facings\n",
      "##### Start a new Table#####\n",
      "88 PHILLY CREAM CHEESE ONION CHIVE 1.00OZ U(a21000*RMQSPl(V 20738 1\n",
      "['CC Rack-1', '88', 'PHILLY CREAM CHEESE ONION CHIVE ', '1.00', 'OZ', 'U(a21000*RMQSPl(V', '20738', '1']\n",
      "89 PHILLY CREAM CHEESE STRAWBERRY 1.00OZ U(a21000*RMQSNr(w 20737 1\n",
      "['CC Rack-1', '89', 'PHILLY CREAM CHEESE STRAWBERRY ', '1.00', 'OZ', 'U(a21000*RMQSNr(w', '20737', '1']\n",
      "95 BUTTER SINGLE SERVE 1.00CT U(a99999*PMKLQn(X 520163 1\n",
      "['CC Rack-1', '95', 'BUTTER SINGLE SERVE ', '1.00', 'CT', 'U(a99999*PMKLQn(X', '520163', '1']\n",
      "Loc. ID Name Size UOM UPC - Barcode Stockcode Facings\n",
      "##### Start a new Table#####\n",
      "96 CRYSTAL FARMS MOZZARELLA FINE SHREDDED C... 8.00OZ U(a75925*NKQNLp(u 920926 1\n",
      "['Shelf 15', '96', 'CRYSTAL FARMS MOZZARELLA FINE SHREDDED C... ', '8.00', 'OZ', 'U(a75925*NKQNLp(u', '920926', '1']\n",
      "97 CRYSTAL FARMS MILD CHEDDAR FINE SHREDDED... 8.00OZ U(a75925*NKQMTm(W 920925 1\n",
      "['Shelf 15', '97', 'CRYSTAL FARMS MILD CHEDDAR FINE SHREDDED... ', '8.00', 'OZ', 'U(a75925*NKQMTm(W', '920925', '1']\n",
      "98 KC MEDIUM CHEDDAR CHEESE SLICES 8 OZ 8.00OZ U(a39779*KKKQMl(V 920887 1\n",
      "['Shelf 15', '98', 'KC MEDIUM CHEDDAR CHEESE SLICES 8 OZ ', '8.00', 'OZ', 'U(a39779*KKKQMl(V', '920887', '1']\n",
      "Page: 4 of 5 3/3/2021\n",
      "[]\n",
      "################## <Page:5> #################\n",
      "2 DR LH BREAKFAST W- KIDS* (Front View) 9-20 (store 846 )\n",
      "[]\n",
      "Planogram Item Listing Report\n",
      "99 KC COLBY JACK CHEESE SLICES 8 OZ 8.00OZ U(a39779*KKKQNs(x 920888 1\n",
      "['Shelf 15', '99', 'KC COLBY JACK CHEESE SLICES 8 OZ ', '8.00', 'OZ', 'U(a39779*KKKQNs(x', '920888', '1']\n",
      "100 KC STRING CHEESE REGULAR 12 OZ BAG 12.00OZ U(a39779*KMKQRo(Y 20672 1\n",
      "['Shelf 15', '100', 'KC STRING CHEESE REGULAR 12 OZ BAG ', '12.00', 'OZ', 'U(a39779*KMKQRo(Y', '20672', '1']\n",
      "Loc. ID Name Size UOM UPC - Barcode Stockcode Facings\n",
      "##### Start a new Table#####\n",
      "101 KEMPS SELECT HEAVY WHIPPED CREAM 13 OZ 12.00CT U(a41483*KOMQKq(v 925331 1\n",
      "['Shelf 16', '101', 'KEMPS SELECT HEAVY WHIPPED CREAM 13 OZ ', '12.00', 'CT', 'U(a41483*KOMQKq(v', '925331', '1']\n",
      "102 KEMPS HEAVY WHIPPING CREAM 8.00OZ U(a41483*KKQOQm(W 111303 1\n",
      "['Shelf 16', '102', 'KEMPS HEAVY WHIPPING CREAM ', '8.00', 'OZ', 'U(a41483*KKQOQm(W', '111303', '1']\n",
      "103 INT DELIGHT FR VAN 16.000Z U(a41271*KMPQMk(U 20636 1\n",
      "['Shelf 16', '103', 'INT DELIGHT FR VAN ', '16.000', 'Z', 'U(a41271*KMPQMk(U', '20636', '1']\n",
      "104 NT CINN HAZELNUT CREAMER 16.00OZ U(a39779*LLLMNp(u 111206 1\n",
      "['Shelf 16', '104', 'NT CINN HAZELNUT CREAMER ', '16.00', 'OZ', 'U(a39779*LLLMNp(u', '111206', '1']\n",
      "105 NT IRISH CREAM CREAMER 16.00OZ U(a39779*LLLNMr(w 111207 1\n",
      "['Shelf 16', '105', 'NT IRISH CREAM CREAMER ', '16.00', 'OZ', 'U(a39779*LLLNMr(w', '111207', '1']\n",
      "106 NT FRENCH VANILLA CREAMER 16.00OZ U(a39779*LLLMMs(x 111205 1\n",
      "['Shelf 16', '106', 'NT FRENCH VANILLA CREAMER ', '16.00', 'OZ', 'U(a39779*LLLMMs(x', '111205', '1']\n",
      "107 NT 1/2 & 1/2 PINT 16.00OZ U(a39779*LLLMLl(V 111204 1\n",
      "['Shelf 16', '107', 'NT 1/2 & 1/2 PINT ', '16.00', 'OZ', 'U(a39779*LLLMLl(V', '111204', '1']\n",
      "108 NATURE'S TOUCH FRENCH VANILLA CREAMER 1.00QT U(a39779*LLMRKq(v 111215 1\n",
      "['Shelf 16', '108', \"NATURE'S TOUCH FRENCH VANILLA CREAMER \", '1.00', 'QT', 'U(a39779*LLMRKq(v', '111215', '1']\n",
      "109 NT 1/2 & 1/2 QUART 1.00QT U(a39779*LLLNNo(Y 111208 1\n",
      "['Shelf 16', '109', 'NT 1/2 & 1/2 QUART ', '1.00', 'QT', 'U(a39779*LLLNNo(Y', '111208', '1']\n",
      "Loc. ID Name Size UOM UPC - Barcode Stockcode Facings\n",
      "##### Start a new Table#####\n",
      "90 PHILLY CREAM CHEESE REDUC FAT 1.00OZ U(a21000*QLKTPm(W 20740 1\n",
      "['CC Rack -2', '90', 'PHILLY CREAM CHEESE REDUC FAT ', '1.00', 'OZ', 'U(a21000*QLKTPm(W', '20740', '1']\n",
      "91 PHILLY CREAM CHEESE ORIG 1.00OZ U(a21000*QLLLTp(u 20739 1\n",
      "['CC Rack -2', '91', 'PHILLY CREAM CHEESE ORIG ', '1.00', 'OZ', 'U(a21000*QLLLTp(u', '20739', '1']\n",
      "Deleted Items- Adjust... Width: 0'11.00 Depth: 26.00 in\n",
      "[]\n",
      "Loc. ID Name Size UOM UPC - Barcode Stockcode Facings\n",
      "##### Start a new Table#####\n",
      "110 NAKED BERRY BLAST 15.20OZ U(a82592*TSSLPr(w 4013 1\n",
      "['CC Rack -2', '110', 'NAKED BERRY BLAST ', '15.20', 'OZ', 'U(a82592*TSSLPr(w', '4013', '1']\n",
      "111 NAKED MIGHTY MANGO 15.20OZ U(a82592*QQKLPm(W 4011 1\n",
      "['CC Rack -2', '111', 'NAKED MIGHTY MANGO ', '15.20', 'OZ', 'U(a82592*QQKLPm(W', '4011', '1']\n",
      "Deleted Items Width: 0'11.00 Depth: 26.00 in\n",
      "[]\n",
      "Loc. ID Name Size UOM UPC - Barcode Stockcode Facings\n",
      "##### Start a new Table#####\n",
      "112 STARBUCKS COLD BREW COFFEE COCOA & HONE... 11.00OZ U(a12000*LQMPOl(V PEPSI 1\n",
      "['CC Rack -2', '112', 'STARBUCKS COLD BREW COFFEE COCOA & HONE... ', '11.00', 'OZ', 'U(a12000*LQMPOl(V', 'PEPSI', '1']\n",
      "113 STARBUCKS COLD BREW COFFEE BLACK UNSWEE... 11.00OZ U(a12000*LQMPMr(w PEPSI 1\n",
      "['CC Rack -2', '113', 'STARBUCKS COLD BREW COFFEE BLACK UNSWEE... ', '11.00', 'OZ', 'U(a12000*LQMPMr(w', 'PEPSI', '1']\n",
      "Added Items Width: 0'11.00 Depth: 1.00 in\n",
      "[]\n",
      "Loc. ID Name Size UOM UPC - Barcode Stockcode Facings\n",
      "##### Start a new Table#####\n",
      "34 STARBUCKS NITRO SWEET CREAM 9.60OZ U(a12000*LTMTKq(v PEPSI 1\n",
      "['CC Rack -2', '34', 'STARBUCKS NITRO SWEET CREAM ', '9.60', 'OZ', 'U(a12000*LTMTKq(v', 'PEPSI', '1']\n",
      "46 MONSTER JAVA MEAN BEAN 15.00OZ U(a70847*SLMQKt(y COKE 1\n",
      "['CC Rack -2', '46', 'MONSTER JAVA MEAN BEAN ', '15.00', 'OZ', 'U(a70847*SLMQKt(y', 'COKE', '1']\n",
      "47 MONSTER JAVA LOCA MOCHA 15.00OZ U(a70847*SLMRLp(u COKE 1\n",
      "['CC Rack -2', '47', 'MONSTER JAVA LOCA MOCHA ', '15.00', 'OZ', 'U(a70847*SLMRLp(u', 'COKE', '1']\n",
      "63 STARBUCKS TRIPLE SHOT ENERGY EXT ST FR VA... 15.00OZ U(a12000*LSLNLn(X PEPSI 1\n",
      "['CC Rack -2', '63', 'STARBUCKS TRIPLE SHOT ENERGY EXT ST FR VA... ', '15.00', 'OZ', 'U(a12000*LSLNLn(X', 'PEPSI', '1']\n",
      "Page: 5 of 5 3/3/2021\n",
      "[]\n",
      "[['Shelf 1', '1', 'ARIZONA ARNOLD PALMER HALF & HALF STRAWB... ', '23.00', 'OZ', 'v(g13008*RNPNKm(W', '7635', '1'], ['Shelf 1', '2', 'ARIZONA ARNOLD PALMER HALF & HALF TEA/LEM... ', '23.00', 'OZ', 'v(g13008*RLTNKm(W', '7616', '1'], ['Shelf 1', '3', 'ARIZONA RX ENERGY ', '23.00', 'OZ', 'v(g13008*RLSOPt(y', '7614', '1'], ['Shelf 1', '4', 'ARIZONA SWEET TEA CAN ', '23.00', 'OZ', 'v(g13008*RLRRLl(V', '7612', '1'], ['Shelf 1', '5', 'ARIZONA RASPBERRY TEA ', '23.00', 'OZ', 'v(g13008*RNPORk(U', '7611', '1'], ['Shelf 1', '6', 'ARIZONA GREEN TEA ', '23.00', 'OZ', 'v(g13008*RLPMQr(w', '7610', '1'], ['Shelf 1', '7', 'ARIZONA MUCHO MANGO TALL BOY 20 OZ ', '20.00', 'OZ', 'v(g13008*RPLNNn(X', '924835', '1'], ['Shelf 1', '8', 'LIPTON GREEN TEA W/CITRUS ', '20.00', 'OZ', 'U(a12000*KLMRPo(Y', 'PEPSI', '1'], ['Shelf 1', '9', 'LIPTON PURE LEAF RASPBERRY TEA ', '18.50', 'OZ', 'U(a12000*MSQMMn(X', 'PEPSI', '1'], ['Shelf 2', '10', 'KWIKADE ARCTIC FREEZE ', '12.00', 'OZ', 'U(a39779*LLLSRr(w', '111021', '1'], ['Shelf 2', '11', 'KWIKADE FRT PNCH ', '12.00', 'OZ', 'U(a39779*LLLPOt(y', '111012', '1'], ['Shelf 2', '12', 'KWIKADE GRAPE ', '12.00', 'OZ', 'U(a39779*LLLPNm(W', '111011', '1'], ['Shelf 2', '13', 'CLUB HOUSE FRUIT PUNCH 10 OZ ', '24.00', 'CT', 'x(i54340*KKOMNl(V', '925648', '1'], ['Shelf 2', '14', 'CLUB HOUSE BLUE RASPBERRY 10 OZ ', '24.00', 'CT', 'x(i54340*KKOMPp(u', '925651', '1'], ['Shelf 2', '15', 'GOOD 2 GROW FRUIT PUNCH ', '6.00', 'OZ', 'x(i83990*QPLMKp(u', '921703', '1'], ['Shelf 2', '16', 'GOOD 2 GROW APPLE JUICE ', '6.00', 'OZ', 'x(i83990*QQLKKq(v', '921727', '1'], ['Shelf 2', '17', 'LIPTON PURE LEAF TEA SWEETENED/NO LEMON ', '18.50', 'OZ', 'U(a12000*MSQLTn(X', 'PEPSI', '2'], ['Shelf 2', '18', 'LIPTON PURE LEAF TEA W/LEMON ', '18.50', 'OZ', 'U(a12000*MSQLSq(v', 'PEPSI', '1'], ['Shelf 3', '19', \"NATURE'S TOUCH 50/50 LEMONADE TEA \", '20.00', 'OZ', 'U(a39779*LLMMNm(W', '111133', '1'], ['Shelf 3', '20', \"NATURE'S TOUCH PEACH TEA LEMONADE \", '20.00', 'OZ', 'U(a39779*LLMRRp(u', '111139', '1'], ['Shelf 3', '21', \"NATURE'S TOUCH PEACH TEA \", '20.00', 'OZ', 'U(a39779*LLMRNr(w', '111138', '1'], ['Shelf 3', '22', \"NATURE'S TOUCH RASPBERRY TEA \", '20.00', 'OZ', 'U(a39779*LLMQSn(X', '111135', '1'], ['Shelf 3', '23', \"NATURE'S TOUCH POMEGRANATE ACAI TEA \", '20.00', 'OZ', 'U(a39779*LLMMLs(x', '111131', '1'], ['Shelf 3', '24', 'NT SWEET TEA ', '20.00', 'OZ', 'U(a39779*LLMSLm(W', '921127', '1'], ['Shelf 3', '25', \"NATURE'S TOUCH LEMONADE \", '20.00', 'OZ', 'U(a39779*LLMLQo(Y', '111128', '1'], ['Shelf 3', '26', \"NATURE'S TOUCH RASPBERRY LEMONADE \", '20.00', 'OZ', 'U(a39779*LLMRLn(X', '111137', '1'], ['Shelf 3', '27', 'PURE LEAF HERBAL TEA PEACH HIBISCUS 18.5 OZ ', '18.50', 'OZ', 'U(a12000*LSLKPo(Y', 'PEPSI', '1'], ['Shelf 3', '28', 'PURE LEAF HERBAL TEA CHERRY HIBISCUS 18.5 OZ ', '18.50', 'OZ', 'U(a12000*LSKTOl(V', 'PEPSI', '1'], ['Shelf 4', '29', 'SNAPPLE KIWI STRAWBERRY ', '16.00', 'OZ', 'U(a76183*KKNLKr(w', 'KDB', '1'], ['Shelf 4', '30', 'SNAPPLE ALL NATURAL APPLE ', '16.00', 'OZ', 'U(a76183*KKNMSm(W', 'KDP', '1'], ['Shelf 4', '31', 'EVERFRESH ORANGE JUICE ', '16.00', 'OZ', 'U(a76737*LMMNKs(x', '20893', '1'], ['Shelf 4', '32', 'EVERFRESH APPLE JUICE ', '16.00', 'OZ', 'U(a76737*LMMNMm(W', '20892', '1'], ['Shelf 4', '33', 'STARBUCKS NITRO BLACK ', '9.60', 'OZ', 'U(a12000*LTMSQt(y', 'PEPSI', '1'], ['Shelf 4', '34', 'STARBUCKS NITRO SWEET CREAM ', '9.60', 'OZ', 'U(a12000*LTMTKq(v', 'PEPSI', '1'], ['Shelf 4', '35', 'KEVITA MASTER BREW KOMBUCHA PINEAPPLE PE... ', '15.20', 'OZ', 'x(i53311*KKNQKk(U', '924164', '1'], ['Shelf 4', '36', 'KEVITA MBK TART CHERRY 15.2 OZ ', '15.20', 'OZ', 'x(i53311*KKNQLr(w', '925175', '1'], ['Shelf 4', '37', 'LIPTON PURE LEAF UNSWEETENED ', '18.50', 'OZ', 'U(a12000*MSQMKt(y', 'PEPSI', '1'], ['Shelf 5', '38', 'SIMPLY CRANBERRY JUICE ', '11.50', 'OZ', 'U(a25000*KKKNKk(U', '4026', '1'], ['Shelf 5', '39', 'SIMPLY RASPBERRY LEMONADE JUICE ', '11.50', 'OZ', 'U(a25000*KKKLSs(x', '4024', '1'], ['Shelf 5', '40', 'SIMPLY LEMONADE JUICE ', '11.50', 'OZ', 'U(a25000*KKKMLs(x', '4023', '1'], ['Shelf 5', '41', 'SIMPLY ORANGE JUICE - PULP FREE ', '11.50', 'OZ', 'U(a25000*KKKMOt(y', '4022', '1'], ['Shelf 5', '42', 'NAKED GREEN MACHINE ', '15.20', 'OZ', 'U(a82592*RMKLPn(X', '4016', '1'], ['Shelf 5', '43', 'NAKED JUICE STRAWBRY BANA ', '15.20', 'OZ', 'U(a82592*LTOLPm(W', '4014', '1'], ['Shelf 5', '44', 'NAKED JUICE BLUE MACHINE ', '15.20', 'OZ', 'U(a82592*RMRLPm(W', '4012', '1'], ['Shelf 5', '45', 'V8 VEGTABLE JUICE ', '12.00', 'OZ', 'U(a51000*LNSKNn(X', '3655', '1'], ['Shelf 5', '46', 'MONSTER JAVA MEAN BEAN ', '15.00', 'OZ', 'U(a70847*SLMQKt(y', 'COKE', '1'], ['Shelf 5', '47', 'MONSTER JAVA LOCA MOCHA ', '15.00', 'OZ', 'U(a70847*SLMRLp(u', 'COKE', '1'], ['Shelf 6', '48', 'STARBUCKS ESPRESSO & CREAM DOUBLE SHOP ... ', '6.50', 'OZ', 'U(a12000*KKLRRm(W', 'PEPSI', '1'], ['Shelf 6', '49', 'STARBUCKS DBLSHT MOCHA ', '15.00', 'OZ', 'U(a12000*KMSOPs(x', 'PEPSI', '1'], ['Shelf 6', '50', 'STARBUCKS DBLSHT VANILLA ', '15.00', 'OZ', 'U(a12000*KMSOTq(v', 'PEPSI', '1'], ['Shelf 6', '51', 'FRAPPUCCINO MOCHA ', '13.70', 'OZ', 'U(a12000*KKOPMk(U', 'PEPSI', '1'], ['Shelf 6', '52', 'FRAPPUCCINO VANILLA ', '13.70', 'OZ', 'U(a12000*SLNNLn(X', 'PEPSI', '1'], ['Shelf 6', '53', 'STARBUCKS FRAPPUCCINO CARAMEL ', '13.70', 'OZ', 'U(a12000*KLQRMl(V', 'PEPSI', '1'], ['Shelf 6', '54', 'NT KG CAPP DOUBLE SHOT FR VANILLA PINT ', '16.00', 'OZ', 'U(a39779*LKTTTr(w', '921655', '1'], ['Shelf 6', '55', 'KARUBA GOLD CAPPUCCINO WHITE CHOCOLATE ... ', '16.00', 'OZ', 'U(a39779*KKKSOn(X', '921034', '1'], ['Shelf 6', '56', 'KARUBA GOLD MOCHA CAPPUCCINO ', '16.00', 'OZ', 'U(a39779*LLMRQs(x', '111216', '1'], ['Shelf 6', '57', 'CHINO ICED CAPP FVAN ', '16.00', 'OZ', 'U(a39779*LLLKKq(v', '111005', '1'], ['Shelf 7', '58', 'MUSCLE MILK PRO 40 KNOCKOUT CHOCOLATE ', '14.00', 'OZ', 'x(i76063*KKMSKq(v', 'PEPSI', '1'], ['Shelf 7', '59', 'MUSCLE MILK PRO SERIES INTENSE VANILLA ', '14.00', 'OZ', 'x(i76063*KKMSLn(X', 'PEPSI', '1'], ['Shelf 7', '60', 'MUSCLE MILK CHOCOLATE ', '14.00', 'OZ', 'x(i76063*KKMKLl(V', 'PEPSI', '1'], ['Shelf 7', '61', 'MUSCLE MILK VANILLA CRÈME ', '14.00', 'OZ', 'x(i76063*KKMKMs(x', 'PEPSI', '1'], ['Shelf 7', '62', 'STARBUCKS TRIPLE SHOT ENERGY EXT ST CAFFE ... ', '15.00', 'OZ', 'U(a12000*LSLMTk(U', 'PEPSI', '1'], ['Shelf 7', '63', 'STARBUCKS TRIPLE SHOT ENERGY EXT ST FR VA... ', '15.00', 'OZ', 'U(a12000*LSLNLn(X', 'PEPSI', '1'], ['Shelf 7', '64', 'BLACK STAG ICED LATTE CARAMEL 13.7 OZ ', '13.70', 'OZ', 'x(i11130*KNKLSo(Y', '926058', '1'], ['Shelf 7', '65', 'BLACK STAG ESPRESSO WITH CREAM 6.5 OZ ', '6.50', 'OZ', 'x(i11130*KNKSNm(W', '926056', '1'], ['Shelf 7', '66', 'BLACK STAG ICED LATTE MOCHA ENERGY 15 OZ ', '15.00', 'OZ', 'x(i11130*KNKQSt(y', '926057', '1'], ['Shelf 7', '67', 'BLACK STAG ICED LATTE VANILLA ENERGY 15 OZ ', '15.00', 'OZ', 'x(i11130*KNKQRm(W', '926055', '1'], ['Shelf 8', '68', 'EGGS LARGE DOZEN ', '1.00', 'DZ', 'U(a39779*KMKKOt(y', '20040', '7'], ['Shelf 9', '69', 'PATRICK CUDAHY THICK SLICED BACON ', '16.00', 'OZ', 'U(a43200*QLOKMs(x', '499509', '1'], ['Shelf 9', '70', 'NATURES TOUCH ORGANIC LARGE EGGS ', '12.00', 'CT', 'U(a39779*KKKMTo(Y', '920641', '1'], ['Shelf 9', '70', 'NATURES TOUCH ORGANIC LARGE EGGS ', '12.00', 'CT', 'U(a39779*KKKMTo(Y', '920641', '1'], ['Shelf 10', '71', 'KITCHEN CRAVINGS SLICED BACON ', '12.00', 'OZ', 'U(a39779*OTTPSq(v', '499482', '1'], ['Shelf 10', '72', 'FARMLAND DICED HAM 16 OZ ', '1.00', 'CT', 'U(a70247*SLSTMs(x', '928647', '1'], ['Shelf 10', '73', \"RESER'S HASH BROWNS \", '20.00', 'OZ', 'U(a71117*LOOMNt(y', '180428', '1'], ['Shelf 11', '74', 'BLUE BONNET MARGARINE QTR ', '16.00', 'OZ', 'U(a29000*KKSMMt(y', '20150', '1'], ['Shelf 11', '75', 'FORMOST UNSALTED BUTTER QUARTERS ', '4.00', 'CT', 'x(i07713*NKKRQs(x', '922287', '1'], ['Shelf 11', '76', 'NT BUTTER QUARTERS ', '1.00', 'LB', 'U(a39779*KMKKQn(X', '20066', '7'], ['Shelf 12', '77', 'FRENCH ONION DIP ', '8.00', 'OZ', 'w(h50388*LKMKPp(u', '111401', '1'], ['Shelf 12', '78', 'DEANS FRENCH ONION DIP ', '16.00', 'OZ', 'U(a26700*LMTLPp(u', '20205', '1'], ['Shelf 12', '79', 'SOUR CREAM ', '8.00', 'OZ', 'w(h50388*LKLKPs(x', '925194', '2'], ['Shelf 12', '80', 'TOP THE TATER ', '12.00', 'OZ', 'U(a70801*QOSKKs(x', '20208', '1'], ['Shelf 12', '81', 'SABRA ROASTED RED PEPPER HUMMUS 10 OZ ', '10.00', 'OZ', 'U(a40822*KLLPOt(y', '922130', '1'], ['Shelf 13', '82', 'DEANS CREAMY DILL DIP ', '8.00', 'OZ', 'U(a26700*LMTKQn(X', '20203', '1'], ['Shelf 13', '83', 'PHILLY CREAM CHEESE BAR ', '8.00', 'OZ', 'U(a21000*QLMMNt(y', '20344', '1'], ['Shelf 13', '84', 'PHILLY ONION & CHIVE CREAM CHEESE TUB ', '8.00', 'OZ', 'U(a21000*KKRMSs(x', '20343', '1'], ['Shelf 13', '85', 'KEMPS 2% LOWFAT COTTAGE CHEESE 16 OZ ', '16.00', 'OZ', 'U(a41483*KNQLKk(U', '923657', '1'], ['Shelf 13', '86', 'FIESTA FRESH SALSA ', '16.00', 'OZ', 'x(i29595*KKKKLr(w', '30565', '1'], ['Shelf 13', '87', 'WHOLLY GUACAMOLE BOWL CLASSIC ', '7.50', 'OZ', 'v(g16112*SQQRKm(W', '928425', '1'], ['Shelf 14', '92', 'CRYSTAL FARMS AMERICAN CHEESE SLICES ', '12.00', 'OZ', 'U(a75925*NKKLRr(w', '920929', '1'], ['Shelf 14', '93', 'CRYSTAL FARMS WISCONSIN SHARP CHEDDAR C... ', '8.00', 'OZ', 'U(a75925*NKLKPl(V', '920928', '1'], ['Shelf 14', '94', 'CRYSTAL FARMS PEPPER JACK CHEESE ', '8.00', 'OZ', 'U(a75925*NKKSTo(Y', '920927', '1'], ['CC Rack-1', '88', 'PHILLY CREAM CHEESE ONION CHIVE ', '1.00', 'OZ', 'U(a21000*RMQSPl(V', '20738', '1'], ['CC Rack-1', '89', 'PHILLY CREAM CHEESE STRAWBERRY ', '1.00', 'OZ', 'U(a21000*RMQSNr(w', '20737', '1'], ['CC Rack-1', '95', 'BUTTER SINGLE SERVE ', '1.00', 'CT', 'U(a99999*PMKLQn(X', '520163', '1'], ['Shelf 15', '96', 'CRYSTAL FARMS MOZZARELLA FINE SHREDDED C... ', '8.00', 'OZ', 'U(a75925*NKQNLp(u', '920926', '1'], ['Shelf 15', '97', 'CRYSTAL FARMS MILD CHEDDAR FINE SHREDDED... ', '8.00', 'OZ', 'U(a75925*NKQMTm(W', '920925', '1'], ['Shelf 15', '98', 'KC MEDIUM CHEDDAR CHEESE SLICES 8 OZ ', '8.00', 'OZ', 'U(a39779*KKKQMl(V', '920887', '1'], ['Shelf 15', '99', 'KC COLBY JACK CHEESE SLICES 8 OZ ', '8.00', 'OZ', 'U(a39779*KKKQNs(x', '920888', '1'], ['Shelf 15', '100', 'KC STRING CHEESE REGULAR 12 OZ BAG ', '12.00', 'OZ', 'U(a39779*KMKQRo(Y', '20672', '1'], ['Shelf 16', '101', 'KEMPS SELECT HEAVY WHIPPED CREAM 13 OZ ', '12.00', 'CT', 'U(a41483*KOMQKq(v', '925331', '1'], ['Shelf 16', '102', 'KEMPS HEAVY WHIPPING CREAM ', '8.00', 'OZ', 'U(a41483*KKQOQm(W', '111303', '1'], ['Shelf 16', '103', 'INT DELIGHT FR VAN ', '16.000', 'Z', 'U(a41271*KMPQMk(U', '20636', '1'], ['Shelf 16', '104', 'NT CINN HAZELNUT CREAMER ', '16.00', 'OZ', 'U(a39779*LLLMNp(u', '111206', '1'], ['Shelf 16', '105', 'NT IRISH CREAM CREAMER ', '16.00', 'OZ', 'U(a39779*LLLNMr(w', '111207', '1'], ['Shelf 16', '106', 'NT FRENCH VANILLA CREAMER ', '16.00', 'OZ', 'U(a39779*LLLMMs(x', '111205', '1'], ['Shelf 16', '107', 'NT 1/2 & 1/2 PINT ', '16.00', 'OZ', 'U(a39779*LLLMLl(V', '111204', '1'], ['Shelf 16', '108', \"NATURE'S TOUCH FRENCH VANILLA CREAMER \", '1.00', 'QT', 'U(a39779*LLMRKq(v', '111215', '1'], ['Shelf 16', '109', 'NT 1/2 & 1/2 QUART ', '1.00', 'QT', 'U(a39779*LLLNNo(Y', '111208', '1'], ['CC Rack -2', '90', 'PHILLY CREAM CHEESE REDUC FAT ', '1.00', 'OZ', 'U(a21000*QLKTPm(W', '20740', '1'], ['CC Rack -2', '91', 'PHILLY CREAM CHEESE ORIG ', '1.00', 'OZ', 'U(a21000*QLLLTp(u', '20739', '1'], ['CC Rack -2', '110', 'NAKED BERRY BLAST ', '15.20', 'OZ', 'U(a82592*TSSLPr(w', '4013', '1'], ['CC Rack -2', '111', 'NAKED MIGHTY MANGO ', '15.20', 'OZ', 'U(a82592*QQKLPm(W', '4011', '1'], ['CC Rack -2', '112', 'STARBUCKS COLD BREW COFFEE COCOA & HONE... ', '11.00', 'OZ', 'U(a12000*LQMPOl(V', 'PEPSI', '1'], ['CC Rack -2', '113', 'STARBUCKS COLD BREW COFFEE BLACK UNSWEE... ', '11.00', 'OZ', 'U(a12000*LQMPMr(w', 'PEPSI', '1'], ['CC Rack -2', '34', 'STARBUCKS NITRO SWEET CREAM ', '9.60', 'OZ', 'U(a12000*LTMTKq(v', 'PEPSI', '1'], ['CC Rack -2', '46', 'MONSTER JAVA MEAN BEAN ', '15.00', 'OZ', 'U(a70847*SLMQKt(y', 'COKE', '1'], ['CC Rack -2', '47', 'MONSTER JAVA LOCA MOCHA ', '15.00', 'OZ', 'U(a70847*SLMRLp(u', 'COKE', '1'], ['CC Rack -2', '63', 'STARBUCKS TRIPLE SHOT ENERGY EXT ST FR VA... ', '15.00', 'OZ', 'U(a12000*LSLNLn(X', 'PEPSI', '1']]\n"
     ]
    }
   ],
   "source": [
    "shelf_re = 'Shelf|CC Rack'\n",
    "line_re = re.compile(r'\\d')\n",
    "all_record = []\n",
    "with pdfplumber.open(PDF_FILE) as pdf:\n",
    "        pages = pdf.pages\n",
    "        shelf_record = []\n",
    "        page_shelf_record_dict = {}\n",
    "        shelf_re = 'Shelf|CC Rack'\n",
    "        table_number = 0\n",
    "        shelf_num_index = ''\n",
    "        for i,page in enumerate(pages):\n",
    "\n",
    "            print(\"##################\",page,\"#################\")    \n",
    "            if i>0:\n",
    "                page_number = \"page_\"+str(i)\n",
    "                text = page.extract_text()\n",
    "                shelf_record_dict = {}\n",
    "                \n",
    "                \n",
    "                for line in text.split('\\n'):\n",
    "#                     print(line)\n",
    "                    shelf_number = re.findall(shelf_re, line, flags=re.IGNORECASE)\n",
    "                    \n",
    "                    if shelf_number:\n",
    "                        shelf_num_index = re.search(shelf_number[0]+'\\s*([a-zA-Z0-9_.-]*)',line).group()\n",
    "                    else:\n",
    "                        print(line)\n",
    "                        if line.startswith('Loc. ID '):\n",
    "                            table_number = table_number+1\n",
    "                            print(\"##### Start a new Table#####\")\n",
    "\n",
    "                        elif line_re.search(line) and (table_number>0):\n",
    "                            line_desc = get_table_info(shelf_num_index,line)\n",
    "                            if line_desc:\n",
    "                                all_record.append(line_desc)\n",
    "#                             print(line)\n",
    "                            print(line_desc)\n",
    "print(all_record)"
   ]
  },
  {
   "cell_type": "code",
   "execution_count": 7,
   "metadata": {},
   "outputs": [
    {
     "name": "stdout",
     "output_type": "stream",
     "text": [
      "      Shelf No. Loc. ID                                           Name   Size  \\\n",
      "0       Shelf 1       1   ARIZONA ARNOLD PALMER HALF & HALF STRAWB...   23.00   \n",
      "1       Shelf 1       2  ARIZONA ARNOLD PALMER HALF & HALF TEA/LEM...   23.00   \n",
      "2       Shelf 1       3                             ARIZONA RX ENERGY   23.00   \n",
      "3       Shelf 1       4                         ARIZONA SWEET TEA CAN   23.00   \n",
      "4       Shelf 1       5                         ARIZONA RASPBERRY TEA   23.00   \n",
      "..          ...     ...                                            ...    ...   \n",
      "113  CC Rack -2     113    STARBUCKS COLD BREW COFFEE BLACK UNSWEE...   11.00   \n",
      "114  CC Rack -2      34                   STARBUCKS NITRO SWEET CREAM    9.60   \n",
      "115  CC Rack -2      46                        MONSTER JAVA MEAN BEAN   15.00   \n",
      "116  CC Rack -2      47                       MONSTER JAVA LOCA MOCHA   15.00   \n",
      "117  CC Rack -2      63  STARBUCKS TRIPLE SHOT ENERGY EXT ST FR VA...   15.00   \n",
      "\n",
      "    UOM        UPC-Barcode Stockcode Facings  \n",
      "0    OZ  v(g13008*RNPNKm(W      7635       1  \n",
      "1    OZ  v(g13008*RLTNKm(W      7616       1  \n",
      "2    OZ  v(g13008*RLSOPt(y      7614       1  \n",
      "3    OZ  v(g13008*RLRRLl(V      7612       1  \n",
      "4    OZ  v(g13008*RNPORk(U      7611       1  \n",
      "..   ..                ...       ...     ...  \n",
      "113  OZ  U(a12000*LQMPMr(w     PEPSI       1  \n",
      "114  OZ  U(a12000*LTMTKq(v     PEPSI       1  \n",
      "115  OZ  U(a70847*SLMQKt(y      COKE       1  \n",
      "116  OZ  U(a70847*SLMRLp(u      COKE       1  \n",
      "117  OZ  U(a12000*LSLNLn(X     PEPSI       1  \n",
      "\n",
      "[118 rows x 8 columns]\n"
     ]
    }
   ],
   "source": [
    "import pandas as pd\n",
    "\n",
    "df = pd.DataFrame(all_record,columns=['Shelf No.', 'Loc. ID', 'Name', 'Size', 'UOM', 'UPC-Barcode', 'Stockcode', 'Facings'])\n",
    "print(df)\n",
    "csv_file = PDF_FILE.split('.')[0] + '.table.csv'\n",
    "tsv_file = PDF_FILE.split('.')[0] + '.table.tsv'\n",
    "df.to_csv(tsv_file,sep='\\t', index=False)\n",
    "df.to_csv(csv_file, index=False)"
   ]
  },
  {
   "cell_type": "code",
   "execution_count": null,
   "metadata": {},
   "outputs": [],
   "source": []
  },
  {
   "cell_type": "code",
   "execution_count": null,
   "metadata": {},
   "outputs": [],
   "source": []
  },
  {
   "cell_type": "code",
   "execution_count": null,
   "metadata": {},
   "outputs": [],
   "source": []
  },
  {
   "cell_type": "code",
   "execution_count": null,
   "metadata": {},
   "outputs": [],
   "source": []
  },
  {
   "cell_type": "code",
   "execution_count": null,
   "metadata": {},
   "outputs": [],
   "source": []
  },
  {
   "cell_type": "code",
   "execution_count": 12,
   "metadata": {},
   "outputs": [
    {
     "name": "stdout",
     "output_type": "stream",
     "text": [
      "<class 'list'>\n",
      "w LIPTON GREEN TEA W/CITRUS 20.00OZ U(a*KLMRPo(Y PEPSI \n",
      "PEPSI\n",
      "w LIPTON GREEN TEA W/CITRUS 20.00OZ U(a*KLMRPo(Y\n"
     ]
    }
   ],
   "source": [
    "def replace(replace_list,line):\n",
    "    replace_word = ''\n",
    "    # Replace multiple words with K\n",
    "    # Using regex + join()\n",
    "    line = re.sub(\"|\".join(sorted(replace_list, key = len, reverse = True)), replace_word, line)\n",
    "    return str(line)\n",
    "\n",
    "l = \"w8111 LIPTON GREEN TEA W/CITRUS 20.00OZ U(a12000*KLMRPo(Y PEPSI 1\"\n",
    "\n",
    "m = re.findall('\\d+',l)\n",
    "loc_id = m[0]\n",
    "stockcode = m[-2]\n",
    "facing = m[-1]\n",
    "\n",
    "\n",
    "print(type(m))\n",
    "replace_list = [loc_id,stockcode,facing]\n",
    "l = replace(replace_list,l)\n",
    "print(l)\n",
    "\n",
    "bar_code = l.split()[-1]\n",
    "l= l.rstrip()\n",
    "l= l.lstrip()\n",
    "l = ' '.join(l.split(' ')[:-1])\n",
    "# l = replace(replace_list,l)\n",
    "print((bar_code))\n",
    "print(l)\n",
    "\n",
    "\n",
    "# print(m[0],m[-2],m[-1])\n",
    "# rep = {m[0]: \"\", m[-2]: \"\", m[-1]:\"\"}\n",
    "# rep = dict((re.escape(k), v) for k, v in rep.items()) \n",
    "# pattern = re.compile(\"|\".join(rep.keys()))\n",
    "# l = pattern.sub(lambda m: rep[re.escape(m.group(0))], l)\n",
    "\n",
    "# print(l)\n"
   ]
  },
  {
   "cell_type": "code",
   "execution_count": null,
   "metadata": {},
   "outputs": [],
   "source": []
  },
  {
   "cell_type": "code",
   "execution_count": null,
   "metadata": {},
   "outputs": [],
   "source": [
    "x = "
   ]
  },
  {
   "cell_type": "code",
   "execution_count": 36,
   "metadata": {},
   "outputs": [
    {
     "name": "stdout",
     "output_type": "stream",
     "text": [
      "v(g3008*RLTNKm(W\n",
      " ARIZONA ARNOLD PALMER HALF & HALF TEA/LEM... 3.00OZ\n"
     ]
    }
   ],
   "source": [
    "bar_code = l.split()[-1]\n",
    "l= l.rstrip()\n",
    "l = ' '.join(l.split(' ')[:-1])\n",
    "# l = replace(replace_list,l)\n",
    "print((bar_code))\n",
    "print(l)\n",
    "# bar_code = l.rsplit()\n",
    "# print(bar_code)"
   ]
  },
  {
   "cell_type": "code",
   "execution_count": 6,
   "metadata": {},
   "outputs": [],
   "source": [
    "def get_line_description(line):\n",
    "\n",
    "    line_description = []\n",
    "#     line= \"19 NATURE'S TOUCH 50/50 LEMONADE TEA 20.00OZ U(a39779*LLMMNm(W 111133 1\"\n",
    "    m = re.findall('\\d+',line)\n",
    "    # print(m)\n",
    "    # print(m[0],m[-2],m[-1])\n",
    "    loc_id = m[0]\n",
    "    stockcode = m[-2]\n",
    "    facing = m[-1]\n",
    "    \n",
    "    \n",
    "    line_description.append(loc_id)\n",
    "    line_description.append(stockcode)\n",
    "    line_description.append(facing)\n",
    "    \n",
    "\n",
    "    # Replace all the extracted information with spaces...\n",
    "    rep = {m[0]: \"\", m[-2]: \"\", m[-1]:\"\"}\n",
    "    rep = dict((re.escape(k), v) for k, v in rep.items()) \n",
    "    pattern = re.compile(\"|\".join(rep.keys()))\n",
    "    line = pattern.sub(lambda m: rep[re.escape(m.group(0))], line)\n",
    "\n",
    "    upc_barcode = line.split()[-1]\n",
    "    line_description.append(upc_barcode)\n",
    "    # print(line)\n",
    "    \n",
    "    if re.search('\\d+.\\.\\d+',line):\n",
    "        \n",
    "        size = re.search('\\d+.\\.\\d+',line).group()\n",
    "        line_description.append(size)\n",
    "        line= re.sub(size,'',line)\n",
    "    else:\n",
    "        line_description=[]\n",
    "        return line_description\n",
    "    # print(line)\n",
    "\n",
    "    uom = line.split()[-2]\n",
    "    print(uom)\n",
    "    line_description.append(uom)\n",
    "\n",
    "    line= re.sub(uom,'--',line)\n",
    "    # print(line)\n",
    "\n",
    "    name = line.split('--')[0]\n",
    "    \n",
    "\n",
    "    line_description.append(name)\n",
    "    \n",
    "\n",
    "    # print(m3)\n",
    "    # print(m4)\n",
    "\n",
    "    return line_description"
   ]
  },
  {
   "cell_type": "code",
   "execution_count": null,
   "metadata": {},
   "outputs": [],
   "source": []
  },
  {
   "cell_type": "code",
   "execution_count": 44,
   "metadata": {},
   "outputs": [
    {
     "name": "stdout",
     "output_type": "stream",
     "text": [
      "yrsss\n",
      "3\n"
     ]
    }
   ],
   "source": [
    "l1 = l\n",
    "# print(l1.split()[-2])\n",
    "# l2 = l1.split()[-2]\n",
    "f = re.search('\\d+',l2)\n",
    "if f is not None:\n",
    "    print(\"yrsss\")\n",
    "    print(re.search('\\d+',l2).group())"
   ]
  },
  {
   "cell_type": "code",
   "execution_count": 60,
   "metadata": {},
   "outputs": [
    {
     "name": "stdout",
     "output_type": "stream",
     "text": [
      "20.00\n",
      "8 LIPTON GREEN TEA W/CITRUS OZ U(a12000*KLMRPo(Y PEPSI 1\n"
     ]
    }
   ],
   "source": [
    "l1= \"8 LIPTON GREEN TEA W/CITRUS 20.00OZ U(a12000*KLMRPo(Y PEPSI 1\"\n",
    "\n",
    "if re.search('\\d+\\.\\d+',l1) :\n",
    "    m1 = re.search('\\d+\\.\\d+',l1).group()\n",
    "    print(m1)\n",
    "else:\n",
    "    print(\"pattern not matched!!!\")\n",
    "\n",
    "l1= re.sub(m1,'',l1)\n",
    "print(l1)"
   ]
  },
  {
   "cell_type": "code",
   "execution_count": 16,
   "metadata": {},
   "outputs": [
    {
     "name": "stdout",
     "output_type": "stream",
     "text": [
      "3.00OZ\n",
      " ARIZONA ARNOLD PALMER HALF & HALF TEA/LEM... -- v(g3008*RLTNKm(W  \n"
     ]
    }
   ],
   "source": [
    "m2 = l1.split()[-2]\n",
    "print(m2)\n",
    "\n",
    "l1= re.sub(m2,'--',l1)\n",
    "print(l1)"
   ]
  },
  {
   "cell_type": "code",
   "execution_count": 17,
   "metadata": {},
   "outputs": [
    {
     "ename": "IndexError",
     "evalue": "list index out of range",
     "output_type": "error",
     "traceback": [
      "\u001b[1;31m---------------------------------------------------------------------------\u001b[0m",
      "\u001b[1;31mIndexError\u001b[0m                                Traceback (most recent call last)",
      "\u001b[1;32m<ipython-input-17-997305425a8d>\u001b[0m in \u001b[0;36m<module>\u001b[1;34m()\u001b[0m\n\u001b[0;32m      1\u001b[0m \u001b[0mm3\u001b[0m \u001b[1;33m=\u001b[0m \u001b[0ml\u001b[0m\u001b[1;33m.\u001b[0m\u001b[0msplit\u001b[0m\u001b[1;33m(\u001b[0m\u001b[1;34m'--'\u001b[0m\u001b[1;33m)\u001b[0m\u001b[1;33m[\u001b[0m\u001b[1;36m0\u001b[0m\u001b[1;33m]\u001b[0m\u001b[1;33m\u001b[0m\u001b[0m\n\u001b[1;32m----> 2\u001b[1;33m \u001b[0mm4\u001b[0m \u001b[1;33m=\u001b[0m \u001b[0ml\u001b[0m\u001b[1;33m.\u001b[0m\u001b[0msplit\u001b[0m\u001b[1;33m(\u001b[0m\u001b[1;34m'--'\u001b[0m\u001b[1;33m)\u001b[0m\u001b[1;33m[\u001b[0m\u001b[1;36m1\u001b[0m\u001b[1;33m]\u001b[0m\u001b[1;33m\u001b[0m\u001b[0m\n\u001b[0m\u001b[0;32m      3\u001b[0m \u001b[1;33m\u001b[0m\u001b[0m\n\u001b[0;32m      4\u001b[0m \u001b[0mprint\u001b[0m\u001b[1;33m(\u001b[0m\u001b[0mm3\u001b[0m\u001b[1;33m)\u001b[0m\u001b[1;33m\u001b[0m\u001b[0m\n\u001b[0;32m      5\u001b[0m \u001b[0mprint\u001b[0m\u001b[1;33m(\u001b[0m\u001b[0mm4\u001b[0m\u001b[1;33m)\u001b[0m\u001b[1;33m\u001b[0m\u001b[0m\n",
      "\u001b[1;31mIndexError\u001b[0m: list index out of range"
     ]
    }
   ],
   "source": [
    "m3 = l.split('--')[0]\n",
    "m4 = l.split('--')[1]\n",
    "\n",
    "print(m3)\n",
    "print(m4)"
   ]
  },
  {
   "cell_type": "code",
   "execution_count": null,
   "metadata": {},
   "outputs": [],
   "source": []
  },
  {
   "cell_type": "code",
   "execution_count": 61,
   "metadata": {},
   "outputs": [
    {
     "name": "stdout",
     "output_type": "stream",
     "text": [
      " NATURE'S TOUCH 50/50 LEMONADE TEA 20.00OZ U(a39779*LLMMNm(W 111133 1\n"
     ]
    }
   ],
   "source": [
    "l = re.sub(m,'',l)\n",
    "print(l)"
   ]
  },
  {
   "cell_type": "code",
   "execution_count": 63,
   "metadata": {},
   "outputs": [
    {
     "name": "stdout",
     "output_type": "stream",
     "text": [
      "20.00\n",
      " NATURE'S TOUCH 50/50 LEMONADE TEA OZ U(a39779*LLMMNm(W 111133 1\n"
     ]
    }
   ],
   "source": []
  },
  {
   "cell_type": "code",
   "execution_count": 74,
   "metadata": {},
   "outputs": [
    {
     "name": "stdout",
     "output_type": "stream",
     "text": [
      "['50', '50', '39779', '111133', '1']\n",
      "111133\n"
     ]
    }
   ],
   "source": [
    "m2 = re.findall('\\d+',l)\n",
    "print(m2)\n",
    "print(m2[-2])\n",
    "# l= re.sub(m2,'',l)\n",
    "# print(l)"
   ]
  },
  {
   "cell_type": "code",
   "execution_count": null,
   "metadata": {},
   "outputs": [],
   "source": []
  },
  {
   "cell_type": "code",
   "execution_count": 63,
   "metadata": {},
   "outputs": [
    {
     "data": {
      "text/plain": [
       "'Shelf|CC Rack'"
      ]
     },
     "execution_count": 63,
     "metadata": {},
     "output_type": "execute_result"
    }
   ],
   "source": [
    "shelf_re"
   ]
  },
  {
   "cell_type": "code",
   "execution_count": 65,
   "metadata": {},
   "outputs": [
    {
     "name": "stdout",
     "output_type": "stream",
     "text": [
      "['Shelf', 'CC Rack']\n"
     ]
    }
   ],
   "source": [
    "print(shelf_re.split('|'))"
   ]
  },
  {
   "cell_type": "code",
   "execution_count": 39,
   "metadata": {},
   "outputs": [
    {
     "data": {
      "text/plain": [
       "'Shelf'"
      ]
     },
     "execution_count": 39,
     "metadata": {},
     "output_type": "execute_result"
    }
   ],
   "source": [
    "m = shelf_re.split('|')[0]\n",
    "m"
   ]
  },
  {
   "cell_type": "code",
   "execution_count": 54,
   "metadata": {},
   "outputs": [
    {
     "name": "stdout",
     "output_type": "stream",
     "text": [
      "Shelf 1\n"
     ]
    }
   ],
   "source": [
    "shelf_num_reg = re.search(m+'\\s*([a-zA-Z0-9_.-]*)',\"Shelf 1 Width: 2'4.00 Depth: 27.00 in\").group()\n",
    "print(shelf_num_reg)"
   ]
  },
  {
   "cell_type": "code",
   "execution_count": 74,
   "metadata": {},
   "outputs": [
    {
     "name": "stdout",
     "output_type": "stream",
     "text": [
      "Width: 2'4.00\n"
     ]
    }
   ],
   "source": [
    "shelf_num_width = re.search('Width:'+'\\s*([a-zA-Z0-9_.-.\\']*)',\"Shelf 10 Width: 2'4.00 Depth: 27.00 in\").group()\n",
    "print(shelf_num_width)"
   ]
  },
  {
   "cell_type": "code",
   "execution_count": 77,
   "metadata": {},
   "outputs": [
    {
     "name": "stdout",
     "output_type": "stream",
     "text": [
      "Depth: 27.00 in\n"
     ]
    }
   ],
   "source": [
    "shelf_num_depth = re.search('Depth:'+'\\s*([a-zA-Z0-9_.-.\\']*)\\s*([a-zA-Z0-9_.-.\\']*)',\"Shelf 10 Width: 2'4.00 Depth: 27.00 in\").group()\n",
    "print(shelf_num_depth)"
   ]
  },
  {
   "cell_type": "code",
   "execution_count": 96,
   "metadata": {},
   "outputs": [],
   "source": [
    "line_re = re.compile(r'\\d{2}/\\d{2}/\\d{4} \\d{2}/\\d{2}/\\d{4}')\n"
   ]
  },
  {
   "cell_type": "code",
   "execution_count": null,
   "metadata": {},
   "outputs": [],
   "source": []
  }
 ],
 "metadata": {
  "kernelspec": {
   "display_name": "Python 3",
   "language": "python",
   "name": "python3"
  },
  "language_info": {
   "codemirror_mode": {
    "name": "ipython",
    "version": 3
   },
   "file_extension": ".py",
   "mimetype": "text/x-python",
   "name": "python",
   "nbconvert_exporter": "python",
   "pygments_lexer": "ipython3",
   "version": "3.7.0"
  }
 },
 "nbformat": 4,
 "nbformat_minor": 2
}
